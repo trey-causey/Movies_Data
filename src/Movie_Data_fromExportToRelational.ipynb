{
 "cells": [
  {
   "cell_type": "markdown",
   "source": [
    "### 1. MovieData Relational Operations"
   ],
   "metadata": {
    "collapsed": false
   }
  },
  {
   "cell_type": "code",
   "execution_count": 1,
   "metadata": {
    "collapsed": true
   },
   "outputs": [],
   "source": [
    "import os\n",
    "\n",
    "from datetime import datetime, timedelta\n",
    "from omdb import OMDBClient\n",
    "client = OMDBClient(apikey='e55a0e19')\n",
    "\n",
    "import pandas as pd\n",
    "\n",
    "import datetime\n",
    "\n",
    "# define input and output folder paths\n",
    "input_folder = r'C:\\My\\Workspace\\Python_Projects\\Movies_Data\\input_files'\n",
    "relational_folder = r'C:\\My\\Workspace\\Python_Projects\\Movies_Data\\input_files\\relational'\n",
    "staging_folder = r'C:\\My\\Workspace\\Python_Projects\\Movies_Data\\input_files\\staging'\n",
    "\n",
    "output_folder = r'C:\\My\\Workspace\\Python_Projects\\Movies_Data\\output_files'"
   ]
  },
  {
   "cell_type": "code",
   "execution_count": 2,
   "outputs": [],
   "source": [
    "# 7/16/23 copying entire block from Movie_Data_Relational_Nb_dev1a, but it still needs to be double-checked to eliminate functions not used in this notebook\n",
    "\n",
    "# helper function to search omdb for each film and return the unique imdb ID\n",
    "def get_film_object(row):\n",
    "    film_title = row['Title']\n",
    "    film_year_released = str(row['Year_Released'])\n",
    "\n",
    "    try:\n",
    "        film_object = client.search(film_title, year=film_year_released)\n",
    "        return film_object[0]\n",
    "    except Exception as e:\n",
    "        print(f\"Skipping row: {row} - Error: {e}\")\n",
    "        return None\n",
    "\n",
    "# helper function to extract the unique imdb ids from the list\n",
    "def extract_column_to_list(df, column_name):\n",
    "    return df[column_name].tolist()\n",
    "\n",
    "# helper function to create lists of tuples for imdb key and other dictionary keys\n",
    "def create_data_structure(item, key_name):\n",
    "    values = item[key_name].split(', ')\n",
    "    imdb_id = item['imdbID']\n",
    "    tuple_result = [(imdb_id, value) for value in values]\n",
    "    return tuple_result\n",
    "\n",
    "# helper function to flatten each ragged list\n",
    "def flatten_data_structure(main_list):\n",
    "    flattened_list = []\n",
    "    for sublist in main_list:\n",
    "        for item in sublist:\n",
    "            flattened_list.append(item)\n",
    "    return flattened_list\n",
    "\n",
    "# helper function to create lookup table\n",
    "def return_lookup_dataframe(ph_data_list, ph_key):\n",
    "    # Step 1: Create data structure\n",
    "    cat_obj = [create_data_structure(ph_dl, ph_key) for ph_dl in ph_data_list]\n",
    "    # Step 2: Flatten the data structure\n",
    "    ph_flattened_list = flatten_data_structure(cat_obj)\n",
    "    # Step 3: Create the lookup DataFrame\n",
    "    ph_lookup_df = pd.DataFrame(ph_flattened_list, columns=column_set)\n",
    "    # Step 4: Add key id column\n",
    "    ph_lookup_df['key'] = range(1, len(ph_lookup_df) + 1)\n",
    "    # Step 6: Add 'date_updated' column with current date\n",
    "    ph_lookup_df['date_updated'] = datetime.datetime.now().date()\n",
    "    # Step 5: Reorder the columns\n",
    "    ph_lookup_df = ph_lookup_df[['key', column_set[0], column_set[1], 'date_updated']]\n",
    "    # Step 6: Return dataframe\n",
    "    return ph_lookup_df\n",
    "\n",
    "    # this code block may serve a better purpose by returning a dataframe\n",
    "def return_distinct_dated_dataframe(ph_data_list, ph_key):\n",
    "    # Step 1: Create data structure\n",
    "    cat_obj = [create_data_structure(ph_dl, ph_key) for ph_dl in ph_data_list]\n",
    "    # Step 2: Flatten the data structure\n",
    "    ph_flattened_list = flatten_data_structure(cat_obj)\n",
    "    # Step 3: Create the distinct Dimension DataFrame\n",
    "    ph_dimension_df = pd.DataFrame(ph_flattened_list, columns=column_set)\n",
    "    ph_dimension_df.drop(columns=column_set[0], inplace=True)\n",
    "    # Step 4: Drop duplicates before adding key column\n",
    "    ph_dimension_df.drop_duplicates(subset=column_set[1], inplace=True)\n",
    "    # Step 5: Add id column\n",
    "    ph_dimension_df['id'] = range(1, len(ph_dimension_df) + 1)\n",
    "    # Step 6: Add 'date_updated' column with current date\n",
    "    ph_dimension_df['date_updated'] = datetime.datetime.now().date()\n",
    "    # Step 7: Reorder the columns\n",
    "    ph_dimension_df = ph_dimension_df[['id', column_set[1], 'date_updated']]\n",
    "     # Step 8: Return Dataframe\n",
    "    return ph_dimension_df"
   ],
   "metadata": {
    "collapsed": false
   }
  },
  {
   "cell_type": "markdown",
   "source": [
    "##### 3. Import pickle file and load into dataframe"
   ],
   "metadata": {
    "collapsed": false
   }
  },
  {
   "cell_type": "code",
   "execution_count": 3,
   "outputs": [],
   "source": [
    "# this reads a file that was created in Movies_Data_fromAPItoExport notebook\n",
    "import pickle\n",
    "\n",
    "# movie_data_list = []\n",
    "# the above empty list declaration can be removed if no side effects\n",
    "\n",
    "file_name = 'data_list.pkl'\n",
    "output_file = os.path.join(input_folder, file_name)\n",
    "with open(output_file, 'rb') as fp:\n",
    "    movie_data_list = pickle.load(fp)"
   ],
   "metadata": {
    "collapsed": false
   }
  },
  {
   "cell_type": "markdown",
   "source": [
    "##### 4. Clean and Transform dataframe while adding key and re-ordering"
   ],
   "metadata": {
    "collapsed": false
   }
  },
  {
   "cell_type": "code",
   "execution_count": 4,
   "outputs": [],
   "source": [
    "# create 3NF film table\n",
    "#make dataframe with minimal columns\n",
    "# movie_data_df is made using the full movie_data_list\n",
    "movie_data_df = pd.DataFrame(movie_data_list)\n",
    "# add id column\n",
    "movie_data_df['id'] = range(1, len(movie_data_df) + 1)\n",
    "# choose columns\n",
    "column_list=[\"id\",\"imdbID\",\"Title\",\"Year\",\"Rated\",\"Released\",\"Runtime\",\"Plot\",\"Poster\",\"Metascore\",\"Metacritic\",\"InternetMovieDatabase\",\"RottenTomatoes\",\"imdbRating\",\"imdbVotes\",\"Type\",\"DVD\",\"BoxOffice\"]\n",
    "# creating a narrow data frame just for films in the list\n",
    "film_data_df = pd.DataFrame(movie_data_df, columns=column_list)"
   ],
   "metadata": {
    "collapsed": false
   }
  },
  {
   "cell_type": "code",
   "execution_count": 5,
   "outputs": [],
   "source": [
    "# Replace NaN values in specific columns of movie_data_df\n",
    "columns_to_fill = {\n",
    "    \"Released\": \"1/1/1900\",\n",
    "    \"DVD\": \"1/1/1900\",\n",
    "    \"Year\": \"1900\",\n",
    "    \"RottenTomatoes\": \"0%\",\n",
    "    \"BoxOffice\": \"$0\",\n",
    "    \"Metascore\": \"0\",\n",
    "    \"imdbRating\": \"0\",\n",
    "    \"imdbVotes\": \"0\"\n",
    "}\n",
    "\n",
    "for column, value in columns_to_fill.items():\n",
    "    film_data_df[column] = film_data_df[column].fillna(value)"
   ],
   "metadata": {
    "collapsed": false
   }
  },
  {
   "cell_type": "code",
   "execution_count": 6,
   "outputs": [],
   "source": [
    "file_name = 'films.csv'\n",
    "output_file = os.path.join(relational_folder, file_name)\n",
    "film_data_df.to_csv(output_file, sep='|', index=False)"
   ],
   "metadata": {
    "collapsed": false
   }
  },
  {
   "cell_type": "markdown",
   "source": [
    "##### 5. Create master, relational, & lookup dataframes and exports"
   ],
   "metadata": {
    "collapsed": false
   }
  },
  {
   "cell_type": "code",
   "execution_count": 7,
   "outputs": [
    {
     "name": "stdout",
     "output_type": "stream",
     "text": [
      "stop\n",
      "     f.id  m.id date_updated_y\n",
      "0       1     1     2023-07-16\n",
      "1       1     2     2023-07-16\n",
      "2       1     3     2023-07-16\n",
      "3       2     4     2023-07-16\n",
      "4       2     5     2023-07-16\n",
      "..    ...   ...            ...\n",
      "208    68   141     2023-07-16\n",
      "209    68   146     2023-07-16\n",
      "210    65   141     2023-07-16\n",
      "211    65   142     2023-07-16\n",
      "212    65   143     2023-07-16\n",
      "\n",
      "[213 rows x 3 columns]\n",
      "stop\n",
      "    f.id  m.id date_updated_y\n",
      "0      1     1     2023-07-16\n",
      "1      2     2     2023-07-16\n",
      "2      3     2     2023-07-16\n",
      "3      4     3     2023-07-16\n",
      "4     64     3     2023-07-16\n",
      "..   ...   ...            ...\n",
      "80    62    57     2023-07-16\n",
      "81    63    58     2023-07-16\n",
      "82    69    59     2023-07-16\n",
      "83    70    60     2023-07-16\n",
      "84    71    61     2023-07-16\n",
      "\n",
      "[85 rows x 3 columns]\n",
      "stop\n",
      "     f.id  m.id date_updated_y\n",
      "0       1     1     2023-07-16\n",
      "1       1     2     2023-07-16\n",
      "2       2     3     2023-07-16\n",
      "3       2     4     2023-07-16\n",
      "4       2     5     2023-07-16\n",
      "..    ...   ...            ...\n",
      "159    69   110     2023-07-16\n",
      "160    70   111     2023-07-16\n",
      "161    70   112     2023-07-16\n",
      "162    70   113     2023-07-16\n",
      "163    71   114     2023-07-16\n",
      "\n",
      "[164 rows x 3 columns]\n",
      "stop\n",
      "     f.id  m.id date_updated_y\n",
      "0       1     1     2023-07-16\n",
      "1       1     2     2023-07-16\n",
      "2       1     3     2023-07-16\n",
      "3       4     1     2023-07-16\n",
      "4       4     2     2023-07-16\n",
      "..    ...   ...            ...\n",
      "193    58    10     2023-07-16\n",
      "194    58    11     2023-07-16\n",
      "195    26     9     2023-07-16\n",
      "196    26    12     2023-07-16\n",
      "197    36    11     2023-07-16\n",
      "\n",
      "[198 rows x 3 columns]\n",
      "stop\n",
      "     f.id  m.id date_updated_y\n",
      "0       1     1     2023-07-16\n",
      "1       1     2     2023-07-16\n",
      "2       1     3     2023-07-16\n",
      "3       2     1     2023-07-16\n",
      "4       2     4     2023-07-16\n",
      "..    ...   ...            ...\n",
      "178    71     1     2023-07-16\n",
      "179    71     2     2023-07-16\n",
      "180    71    26     2023-07-16\n",
      "181    71    42     2023-07-16\n",
      "182    71    43     2023-07-16\n",
      "\n",
      "[183 rows x 3 columns]\n",
      "stop\n",
      "     f.id  m.id date_updated_y\n",
      "0       1     1     2023-07-16\n",
      "1       1     2     2023-07-16\n",
      "2       1     3     2023-07-16\n",
      "3       1     4     2023-07-16\n",
      "4       5     1     2023-07-16\n",
      "..    ...   ...            ...\n",
      "135    70     2     2023-07-16\n",
      "136    70    13     2023-07-16\n",
      "137    70    16     2023-07-16\n",
      "138    71     2     2023-07-16\n",
      "139    25    13     2023-07-16\n",
      "\n",
      "[140 rows x 3 columns]\n",
      "stop\n",
      "    f.id  m.id date_updated_y\n",
      "0      1     1     2023-07-16\n",
      "1      2     2     2023-07-16\n",
      "2      3     3     2023-07-16\n",
      "3      4     4     2023-07-16\n",
      "4      5     5     2023-07-16\n",
      "..   ...   ...            ...\n",
      "67    67    68     2023-07-16\n",
      "68    68    69     2023-07-16\n",
      "69    69    70     2023-07-16\n",
      "70    70    71     2023-07-16\n",
      "71    71    72     2023-07-16\n",
      "\n",
      "[72 rows x 3 columns]\n"
     ]
    }
   ],
   "source": [
    "lookup_data = [\n",
    "    {\n",
    "        'file_name': 'film_actors.csv',\n",
    "        '3NF_file_name': 'actors.csv',\n",
    "        'column_set': ['imdb_id', 'actors'],\n",
    "        'table_name': 'Actors'\n",
    "    },\n",
    "    {\n",
    "        'file_name': 'film_directors.csv',\n",
    "        '3NF_file_name': 'directors.csv',\n",
    "        'column_set': ['imdb_id', 'director'],\n",
    "        'table_name': 'Director'\n",
    "    },\n",
    "    {\n",
    "        'file_name': 'film_writers.csv',\n",
    "        '3NF_file_name': 'writers.csv',\n",
    "        'column_set': ['imdb_id', 'writer'],\n",
    "        'table_name': 'Writer'\n",
    "    },\n",
    "    {\n",
    "        'file_name': 'film_genres.csv',\n",
    "        '3NF_file_name': 'genres.csv',\n",
    "        'column_set': ['imdb_id', 'genre'],\n",
    "        'table_name': 'Genre'\n",
    "    },\n",
    "    {\n",
    "        'file_name': 'film_languages.csv',\n",
    "        '3NF_file_name': 'languages.csv',\n",
    "        'column_set': ['imdb_id', 'language'],\n",
    "        'table_name': 'Language'\n",
    "    },\n",
    "    {\n",
    "        'file_name': 'film_countries.csv',\n",
    "        '3NF_file_name': 'countries.csv',\n",
    "        'column_set': ['imdb_id', 'country'],\n",
    "        'table_name': 'Country'\n",
    "    },\n",
    "    {\n",
    "        'file_name': 'film_titles.csv',\n",
    "        '3NF_file_name': 'titles.csv',\n",
    "        'column_set': ['imdb_id', 'title'],\n",
    "        'table_name': 'Title'\n",
    "    }\n",
    "]\n",
    "# the following for loop should include just returning a dataframe instead of making a table for a file export if it accomplishes a goal. The file exports may still be need outside the operational application\n",
    "for data in lookup_data:\n",
    "    file_name = data['file_name']\n",
    "    rel_file_name = data['3NF_file_name']\n",
    "    output_file = os.path.join(relational_folder, file_name)\n",
    "    column_set = data['column_set']\n",
    "    table_name = data['table_name']\n",
    "\n",
    "    lookup_df = return_lookup_dataframe(movie_data_list, table_name)\n",
    "    master_df = return_distinct_dated_dataframe(movie_data_list, table_name)\n",
    "    print(\"stop\")\n",
    "\n",
    "    # Joining master_data_df, lookup_df, and film_data_df\n",
    "    reference_lookup = master_df.merge(lookup_df, on=master_df.columns[1]).merge(film_data_df, left_on='imdb_id', right_on='imdbID')\n",
    "\n",
    "    # Selecting the desired columns\n",
    "    # reference_lookup = reference_lookup[['id_x', 'id_y']].rename(columns={'id_x': 'm.id', 'id_y': 'f.id'})\n",
    "    reference_lookup = reference_lookup[['id_y', 'id_x', 'date_updated_y']].rename(columns={'id_x': 'm.id', 'id_y': 'f.id'})\n",
    "    reference_lookup.sort_values(\"f.id\")\n",
    "\n",
    "\n",
    "    # Printing the resulting DataFrame\n",
    "    print(reference_lookup)\n",
    "\n",
    "    output_file = os.path.join(relational_folder, file_name)\n",
    "    reference_lookup.to_csv(output_file, sep='|', index=False)\n",
    "    output_file = os.path.join(relational_folder, rel_file_name)\n",
    "    master_df.to_csv(output_file, sep='|', index=False)"
   ],
   "metadata": {
    "collapsed": false
   }
  },
  {
   "cell_type": "code",
   "execution_count": 7,
   "outputs": [],
   "source": [],
   "metadata": {
    "collapsed": false
   }
  }
 ],
 "metadata": {
  "kernelspec": {
   "display_name": "Python 3",
   "language": "python",
   "name": "python3"
  },
  "language_info": {
   "codemirror_mode": {
    "name": "ipython",
    "version": 2
   },
   "file_extension": ".py",
   "mimetype": "text/x-python",
   "name": "python",
   "nbconvert_exporter": "python",
   "pygments_lexer": "ipython2",
   "version": "2.7.6"
  }
 },
 "nbformat": 4,
 "nbformat_minor": 0
}
