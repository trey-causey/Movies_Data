{
 "cells": [
  {
   "cell_type": "markdown",
   "source": [
    "## this is the first file that should be ran. next would be relational notebook that uses pickle file"
   ],
   "metadata": {
    "collapsed": false
   }
  },
  {
   "cell_type": "markdown",
   "source": [
    "### 1. Setup imports and API key credentials"
   ],
   "metadata": {
    "collapsed": false
   }
  },
  {
   "cell_type": "code",
   "execution_count": 1,
   "metadata": {
    "collapsed": true
   },
   "outputs": [],
   "source": [
    "# imports and client instance creation with apikey\n",
    "import os\n",
    "import omdb\n",
    "import pandas as pd\n",
    "from omdb import OMDBClient\n",
    "from datetime import datetime, timedelta\n",
    "client = OMDBClient(apikey='e55a0e19')\n",
    "\n",
    "# define input and output folder paths\n",
    "input_folder = r'C:\\My\\Workspace\\Python_Projects\\Movies_Data\\input_files'\n",
    "output_folder = r'C:\\My\\Workspace\\Python_Projects\\Movies_Data\\output_files'"
   ]
  },
  {
   "cell_type": "markdown",
   "source": [
    "### 2. Define common functions"
   ],
   "metadata": {
    "collapsed": false
   }
  },
  {
   "cell_type": "code",
   "execution_count": 2,
   "outputs": [],
   "source": [
    "# helper function to search omdb for each film and return the unique imdb ID\n",
    "def get_film_object(row):\n",
    "    film_title = row['Title']\n",
    "    film_year_released = str(row['Year_Released'])\n",
    "\n",
    "    try:\n",
    "        film_object = client.search(film_title, year=film_year_released)\n",
    "        return film_object[0]\n",
    "    except Exception as e:\n",
    "        print(f\"Skipping row: {row} - Error: {e}\")\n",
    "        return None\n",
    "\n",
    "# helper function to extract the unique imdb ids from the list\n",
    "def extract_column_to_list(df, column_name):\n",
    "    return df[column_name].tolist()"
   ],
   "metadata": {
    "collapsed": false
   }
  },
  {
   "cell_type": "markdown",
   "source": [
    "### 3. MovieData Operations"
   ],
   "metadata": {
    "collapsed": false
   }
  },
  {
   "cell_type": "code",
   "execution_count": 3,
   "outputs": [
    {
     "name": "stdout",
     "output_type": "stream",
     "text": [
      "DO NOT RUN A NEW FILE! DataFrame will be loaded with current file\n",
      "An error occurred: Error tokenizing data. C error: Expected 22 fields in line 8, saw 25\n",
      "\n"
     ]
    }
   ],
   "source": [
    "# 7/16/23 adding a copy of this here even though it needs work -its a good starting point. This should be modified as a check for changes area so the API is only hit for new entries\n",
    "\n",
    "# first, check for current MovieData file so the API can avoid getting hit\n",
    "file_name = 'movie_list_all_columns.csv'\n",
    "output_file = os.path.join(output_folder, file_name)\n",
    "\n",
    "try:\n",
    "    if os.path.exists(output_file):\n",
    "        file_time = datetime.fromtimestamp(os.path.getmtime(output_file))\n",
    "        current_time = datetime.now()\n",
    "        time_difference = current_time - file_time\n",
    "        if time_difference.days > 2:\n",
    "            # File is more than 2 days old, perform necessary actions\n",
    "            print(\"Current File is outdated. Please create a new one\")\n",
    "        else:\n",
    "            # File is less than or equal to 2 days old, no action needed\n",
    "            print(\"DO NOT RUN A NEW FILE! DataFrame will be loaded with current file\")\n",
    "            data_list_df = pd.read_csv(output_file)\n",
    "    else:\n",
    "        # File does not exist, handle accordingly\n",
    "        print(\"FILE DOES NOT EXIST! Please create one\")\n",
    "except Exception as e:\n",
    "    # Exception occurred, handle the error\n",
    "    print(\"An error occurred:\", str(e))"
   ],
   "metadata": {
    "collapsed": false
   }
  },
  {
   "cell_type": "code",
   "execution_count": 4,
   "outputs": [],
   "source": [
    "# create path and name variable\n",
    "file_name = 'film_list.csv'\n",
    "input_file = os.path.join(input_folder, file_name)\n",
    "# read csv\n",
    "csv_data = pd.read_csv(input_file)"
   ],
   "metadata": {
    "collapsed": false
   }
  },
  {
   "cell_type": "code",
   "execution_count": 5,
   "outputs": [],
   "source": [
    "# uses get_film_object helper function to find movie match\n",
    "csv_data['film_object'] = csv_data.apply(get_film_object, axis=1)"
   ],
   "metadata": {
    "collapsed": false
   }
  },
  {
   "cell_type": "code",
   "execution_count": 6,
   "outputs": [],
   "source": [
    "# 7/16/23 adding this code from movies_data_nb_dev1a, but it could still use editing to keep only the essential parts\n",
    "\n",
    "# would like to make a non-key version of movie-list.csv so it can keep a working movie_list.csv->Movie_Data_DW.movies_staging->power bi report for the time being\n",
    "# continuation of above...this creates a list of dictionaries with 5 entries each (key, title, year, imdb_id, type, poster)\n",
    "film_data = [value for _, value in csv_data['film_object'].items()]\n",
    "# creates a dataframe with five columns (title, year, imdb_id, type, poster)\n",
    "full_df = pd.DataFrame(film_data)\n",
    "\n",
    "column_list = [\"title\", \"year\", \"imdb_id\", \"type\", \"poster\"]\n",
    "\n",
    "full_df = full_df[column_list]\n",
    "\n",
    "# create path and name variable\n",
    "file_name = 'movie_list.csv'\n",
    "output_file = os.path.join(output_folder, file_name)\n",
    "\n",
    "# this is to persist the dataframe, may not be necessary in databricks\n",
    "full_df.to_csv(output_file, sep='|', index=False)"
   ],
   "metadata": {
    "collapsed": false
   }
  },
  {
   "cell_type": "code",
   "execution_count": 7,
   "outputs": [],
   "source": [
    "# uses extract_column_to_list helper function to isolate the imdb_id column\n",
    "imdb_id_list = extract_column_to_list(full_df, 'imdb_id')"
   ],
   "metadata": {
    "collapsed": false
   }
  },
  {
   "cell_type": "code",
   "execution_count": 8,
   "outputs": [],
   "source": [
    "# create list of API endpoints for further lookups, example URL: https://www.omdbapi.com/?i=tt2382320&apikey=e55a0e19\n",
    "url_list = []\n",
    "import urllib.parse\n",
    "for imdbId in imdb_id_list:\n",
    "    url = 'https://www.omdbapi.com/?'\n",
    "    params = {'i': imdbId, 'apikey': 'e55a0e19'}\n",
    "    temp_url = str(url + urllib.parse.urlencode(params))\n",
    "    url_list.append(temp_url)"
   ],
   "metadata": {
    "collapsed": false
   }
  },
  {
   "cell_type": "code",
   "execution_count": 9,
   "outputs": [],
   "source": [
    "# create csv of endpoints...can do single list or can apply to an existing dataframe\n",
    "s_obj = pd.Series(url_list)\n",
    "# create path and name variable\n",
    "file_name = 'endpoint_list.csv'\n",
    "output_file = os.path.join(input_folder, file_name)\n",
    "# Save the DataFrame to a CSV file with no leading 0 and no quoting of fields\n",
    "s_obj.to_csv(output_file, header=False, index=False)"
   ],
   "metadata": {
    "collapsed": false
   }
  },
  {
   "cell_type": "code",
   "execution_count": 10,
   "outputs": [],
   "source": [
    "# create a list where each row is all the movie data found from each key\n",
    "import requests\n",
    "# import json\n",
    "data_list = []\n",
    "for api_url in url_list:\n",
    "    resp = requests.get(api_url)\n",
    "    resp.raise_for_status()\n",
    "    data = resp.json()\n",
    "    for d in data[\"Ratings\"]:\n",
    "        temp_dict = {d[\"Source\"].replace(\" \", \"\"):d[\"Value\"]}\n",
    "        data.update(temp_dict.items()) # data is a dict object with 28 entries each pass through the loop\n",
    "    data_list.append(data) #data_list is a list of dictionaries that are created each pass\n",
    "\n",
    "#create a dataframe from the pre-loaded list\n",
    "data_list_df = pd.DataFrame(data_list)"
   ],
   "metadata": {
    "collapsed": false
   }
  },
  {
   "cell_type": "markdown",
   "source": [
    "### 4. Export dataframe as is"
   ],
   "metadata": {
    "collapsed": false
   }
  },
  {
   "cell_type": "code",
   "execution_count": 11,
   "outputs": [],
   "source": [
    "import pickle\n",
    "\n",
    "# save dictionary to data_list.pkl file\n",
    "file_name = 'data_list.pkl'\n",
    "output_file = os.path.join(input_folder, file_name)\n",
    "with open(output_file, 'wb') as fp:\n",
    "    pickle.dump(data_list, fp)"
   ],
   "metadata": {
    "collapsed": false
   }
  },
  {
   "cell_type": "code",
   "execution_count": 12,
   "outputs": [],
   "source": [
    "#save the entire set to file\n",
    "file_name = 'movie_list_all_columns.json'\n",
    "output_file = os.path.join(output_folder, file_name)\n",
    "data_list_df.to_json(output_file, orient=\"table\")"
   ],
   "metadata": {
    "collapsed": false
   }
  },
  {
   "cell_type": "code",
   "execution_count": 13,
   "outputs": [],
   "source": [
    "#save the entire set to file\n",
    "file_name = 'movie_list_all_columns.csv'\n",
    "output_file = os.path.join(output_folder, file_name)\n",
    "data_list_df.to_csv(output_file,sep='|', index=False)"
   ],
   "metadata": {
    "collapsed": false
   }
  },
  {
   "cell_type": "markdown",
   "source": [
    "### 5. Clean and conform the DataFrame"
   ],
   "metadata": {
    "collapsed": false
   }
  },
  {
   "cell_type": "code",
   "execution_count": 14,
   "outputs": [],
   "source": [
    "column_list=[\"Title\",\"Year\",\"Rated\",\"Released\",\"Runtime\",\"Genre\",\"Director\",\"Writer\",\"Actors\",\"Plot\",\"Language\",\"Country\",\"Awards\",\"Poster\", \"Ratings\", \"Metascore\",\"imdbRating\",\"imdbVotes\",\"InternetMovieDatabase\",\"RottenTomatoes\",\"Metacritic\",\"imdbID\",\"Type\",\"DVD\",\"BoxOffice\",\"Production\",\"Website\"]\n",
    "# create a dataframe object based on the previous one where only the relevant columns are used\n",
    "data_list_df_partial = pd.DataFrame(data_list_df, columns=column_list)"
   ],
   "metadata": {
    "collapsed": false
   }
  },
  {
   "cell_type": "code",
   "execution_count": 15,
   "outputs": [],
   "source": [
    "file_name = 'movie_list_detail.csv'\n",
    "output_file = os.path.join(output_folder, file_name)\n",
    "data_list_df_partial.to_csv(output_file,sep='|', index=False)"
   ],
   "metadata": {
    "collapsed": false
   }
  }
 ],
 "metadata": {
  "kernelspec": {
   "display_name": "Python 3",
   "language": "python",
   "name": "python3"
  },
  "language_info": {
   "codemirror_mode": {
    "name": "ipython",
    "version": 2
   },
   "file_extension": ".py",
   "mimetype": "text/x-python",
   "name": "python",
   "nbconvert_exporter": "python",
   "pygments_lexer": "ipython2",
   "version": "2.7.6"
  }
 },
 "nbformat": 4,
 "nbformat_minor": 0
}
