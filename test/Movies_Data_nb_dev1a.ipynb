{
 "cells": [
  {
   "cell_type": "code",
   "execution_count": 1,
   "metadata": {
    "collapsed": true
   },
   "outputs": [],
   "source": [
    "import omdb\n",
    "import pandas as pd\n",
    "from omdb import OMDBClient\n",
    "client = OMDBClient(apikey='e55a0e19')"
   ]
  },
  {
   "cell_type": "code",
   "execution_count": 39,
   "outputs": [
    {
     "data": {
      "text/plain": "                     Title  Year_Released\n0  The Secret Life of Pets           2016\n1         Edge Of Tomorrow           2014\n2       Mad Max: Fury Road           2015\n3        Top Gun: Maverick           2022\n4         Ready Player One           2018",
      "text/html": "<div>\n<style scoped>\n    .dataframe tbody tr th:only-of-type {\n        vertical-align: middle;\n    }\n\n    .dataframe tbody tr th {\n        vertical-align: top;\n    }\n\n    .dataframe thead th {\n        text-align: right;\n    }\n</style>\n<table border=\"1\" class=\"dataframe\">\n  <thead>\n    <tr style=\"text-align: right;\">\n      <th></th>\n      <th>Title</th>\n      <th>Year_Released</th>\n    </tr>\n  </thead>\n  <tbody>\n    <tr>\n      <th>0</th>\n      <td>The Secret Life of Pets</td>\n      <td>2016</td>\n    </tr>\n    <tr>\n      <th>1</th>\n      <td>Edge Of Tomorrow</td>\n      <td>2014</td>\n    </tr>\n    <tr>\n      <th>2</th>\n      <td>Mad Max: Fury Road</td>\n      <td>2015</td>\n    </tr>\n    <tr>\n      <th>3</th>\n      <td>Top Gun: Maverick</td>\n      <td>2022</td>\n    </tr>\n    <tr>\n      <th>4</th>\n      <td>Ready Player One</td>\n      <td>2018</td>\n    </tr>\n  </tbody>\n</table>\n</div>"
     },
     "execution_count": 39,
     "metadata": {},
     "output_type": "execute_result"
    }
   ],
   "source": [
    "csv_data = pd.read_csv('C:\\My\\Workspace\\Python_Projects\\Movies_Data\\input_files\\\\film_list.csv')\n",
    "csv_data.head()"
   ],
   "metadata": {
    "collapsed": false
   }
  },
  {
   "cell_type": "code",
   "execution_count": 40,
   "outputs": [],
   "source": [
    "def get_film_object(row):\n",
    "    film_title = row['Title']\n",
    "    film_year_released = str(row['Year_Released'])\n",
    "    film_object = client.search(film_title, year=film_year_released)\n",
    "    return film_object[0]\n",
    "\n",
    "csv_data['film_object'] = csv_data.apply(get_film_object, axis=1)\n",
    "film_data = csv_data['film_object'].tolist()\n"
   ],
   "metadata": {
    "collapsed": false
   }
  },
  {
   "cell_type": "code",
   "execution_count": 41,
   "outputs": [
    {
     "name": "stdout",
     "output_type": "stream",
     "text": [
      "stip\n"
     ]
    }
   ],
   "source": [
    "full_df = pd.DataFrame(film_data)\n",
    "full_df.reset_index()\n",
    "print('stip')"
   ],
   "metadata": {
    "collapsed": false
   }
  },
  {
   "cell_type": "code",
   "execution_count": 42,
   "outputs": [
    {
     "data": {
      "text/plain": "                                title  year     imdb_id   type  \\\n0             The Secret Life of Pets  2016   tt2709768  movie   \n1                    Edge of Tomorrow  2014   tt1631867  movie   \n2                  Mad Max: Fury Road  2015   tt1392190  movie   \n3                   Top Gun: Maverick  2022   tt1745960  movie   \n4                    Ready Player One  2018   tt1677720  movie   \n5            The Matrix Resurrections  2021  tt10838180  movie   \n6                      Ford v Ferrari  2019   tt1950186  movie   \n7                                Dune  2021   tt1160419  movie   \n8                   Blade Runner 2049  2017   tt1856101  movie   \n9                        Interstellar  2014   tt0816692  movie   \n10                         The Batman  2022   tt1877830  movie   \n11  Everything Everywhere All at Once  2022   tt6710474  movie   \n12                          Ambulance  2022   tt4998632  movie   \n13                         The Matrix  1999   tt0133093  movie   \n14                     No Time to Die  2021   tt2382320  movie   \n\n                                               poster  \n0   https://m.media-amazon.com/images/M/MV5BMjIzMz...  \n1   https://m.media-amazon.com/images/M/MV5BMTc5OT...  \n2   https://m.media-amazon.com/images/M/MV5BN2EwM2...  \n3   https://m.media-amazon.com/images/M/MV5BZWYzOG...  \n4   https://m.media-amazon.com/images/M/MV5BY2JiYT...  \n5   https://m.media-amazon.com/images/M/MV5BMGJkND...  \n6   https://m.media-amazon.com/images/M/MV5BM2UwMD...  \n7   https://m.media-amazon.com/images/M/MV5BN2FjNm...  \n8   https://m.media-amazon.com/images/M/MV5BNzA1Nj...  \n9   https://m.media-amazon.com/images/M/MV5BZjdkOT...  \n10  https://m.media-amazon.com/images/M/MV5BMDdmMT...  \n11  https://m.media-amazon.com/images/M/MV5BYTdiOT...  \n12  https://m.media-amazon.com/images/M/MV5BYjUyN2...  \n13  https://m.media-amazon.com/images/M/MV5BNzQzOT...  \n14  https://m.media-amazon.com/images/M/MV5BYWQ2Nz...  ",
      "text/html": "<div>\n<style scoped>\n    .dataframe tbody tr th:only-of-type {\n        vertical-align: middle;\n    }\n\n    .dataframe tbody tr th {\n        vertical-align: top;\n    }\n\n    .dataframe thead th {\n        text-align: right;\n    }\n</style>\n<table border=\"1\" class=\"dataframe\">\n  <thead>\n    <tr style=\"text-align: right;\">\n      <th></th>\n      <th>title</th>\n      <th>year</th>\n      <th>imdb_id</th>\n      <th>type</th>\n      <th>poster</th>\n    </tr>\n  </thead>\n  <tbody>\n    <tr>\n      <th>0</th>\n      <td>The Secret Life of Pets</td>\n      <td>2016</td>\n      <td>tt2709768</td>\n      <td>movie</td>\n      <td>https://m.media-amazon.com/images/M/MV5BMjIzMz...</td>\n    </tr>\n    <tr>\n      <th>1</th>\n      <td>Edge of Tomorrow</td>\n      <td>2014</td>\n      <td>tt1631867</td>\n      <td>movie</td>\n      <td>https://m.media-amazon.com/images/M/MV5BMTc5OT...</td>\n    </tr>\n    <tr>\n      <th>2</th>\n      <td>Mad Max: Fury Road</td>\n      <td>2015</td>\n      <td>tt1392190</td>\n      <td>movie</td>\n      <td>https://m.media-amazon.com/images/M/MV5BN2EwM2...</td>\n    </tr>\n    <tr>\n      <th>3</th>\n      <td>Top Gun: Maverick</td>\n      <td>2022</td>\n      <td>tt1745960</td>\n      <td>movie</td>\n      <td>https://m.media-amazon.com/images/M/MV5BZWYzOG...</td>\n    </tr>\n    <tr>\n      <th>4</th>\n      <td>Ready Player One</td>\n      <td>2018</td>\n      <td>tt1677720</td>\n      <td>movie</td>\n      <td>https://m.media-amazon.com/images/M/MV5BY2JiYT...</td>\n    </tr>\n    <tr>\n      <th>5</th>\n      <td>The Matrix Resurrections</td>\n      <td>2021</td>\n      <td>tt10838180</td>\n      <td>movie</td>\n      <td>https://m.media-amazon.com/images/M/MV5BMGJkND...</td>\n    </tr>\n    <tr>\n      <th>6</th>\n      <td>Ford v Ferrari</td>\n      <td>2019</td>\n      <td>tt1950186</td>\n      <td>movie</td>\n      <td>https://m.media-amazon.com/images/M/MV5BM2UwMD...</td>\n    </tr>\n    <tr>\n      <th>7</th>\n      <td>Dune</td>\n      <td>2021</td>\n      <td>tt1160419</td>\n      <td>movie</td>\n      <td>https://m.media-amazon.com/images/M/MV5BN2FjNm...</td>\n    </tr>\n    <tr>\n      <th>8</th>\n      <td>Blade Runner 2049</td>\n      <td>2017</td>\n      <td>tt1856101</td>\n      <td>movie</td>\n      <td>https://m.media-amazon.com/images/M/MV5BNzA1Nj...</td>\n    </tr>\n    <tr>\n      <th>9</th>\n      <td>Interstellar</td>\n      <td>2014</td>\n      <td>tt0816692</td>\n      <td>movie</td>\n      <td>https://m.media-amazon.com/images/M/MV5BZjdkOT...</td>\n    </tr>\n    <tr>\n      <th>10</th>\n      <td>The Batman</td>\n      <td>2022</td>\n      <td>tt1877830</td>\n      <td>movie</td>\n      <td>https://m.media-amazon.com/images/M/MV5BMDdmMT...</td>\n    </tr>\n    <tr>\n      <th>11</th>\n      <td>Everything Everywhere All at Once</td>\n      <td>2022</td>\n      <td>tt6710474</td>\n      <td>movie</td>\n      <td>https://m.media-amazon.com/images/M/MV5BYTdiOT...</td>\n    </tr>\n    <tr>\n      <th>12</th>\n      <td>Ambulance</td>\n      <td>2022</td>\n      <td>tt4998632</td>\n      <td>movie</td>\n      <td>https://m.media-amazon.com/images/M/MV5BYjUyN2...</td>\n    </tr>\n    <tr>\n      <th>13</th>\n      <td>The Matrix</td>\n      <td>1999</td>\n      <td>tt0133093</td>\n      <td>movie</td>\n      <td>https://m.media-amazon.com/images/M/MV5BNzQzOT...</td>\n    </tr>\n    <tr>\n      <th>14</th>\n      <td>No Time to Die</td>\n      <td>2021</td>\n      <td>tt2382320</td>\n      <td>movie</td>\n      <td>https://m.media-amazon.com/images/M/MV5BYWQ2Nz...</td>\n    </tr>\n  </tbody>\n</table>\n</div>"
     },
     "execution_count": 42,
     "metadata": {},
     "output_type": "execute_result"
    }
   ],
   "source": [
    "full_df.head(15)\n",
    "# full_df.describe()"
   ],
   "metadata": {
    "collapsed": false
   }
  },
  {
   "cell_type": "code",
   "execution_count": 43,
   "outputs": [],
   "source": [
    "full_df.to_csv(r'C:\\My\\Workspace\\Python_Projects\\Movies_Data\\output_files\\\\movie_list.csv', index=False)"
   ],
   "metadata": {
    "collapsed": false
   }
  },
  {
   "cell_type": "code",
   "execution_count": 44,
   "outputs": [],
   "source": [
    "def extract_column_to_list(df, column_name):\n",
    "    return df[column_name].tolist()\n",
    "\n",
    "# usage\n",
    "imdb_id_list = extract_column_to_list(full_df, 'imdb_id')"
   ],
   "metadata": {
    "collapsed": false
   }
  },
  {
   "cell_type": "code",
   "execution_count": 45,
   "outputs": [
    {
     "name": "stdout",
     "output_type": "stream",
     "text": [
      "['https://www.omdbapi.com/?i=tt2709768&apikey=e55a0e19', 'https://www.omdbapi.com/?i=tt1631867&apikey=e55a0e19', 'https://www.omdbapi.com/?i=tt1392190&apikey=e55a0e19', 'https://www.omdbapi.com/?i=tt1745960&apikey=e55a0e19', 'https://www.omdbapi.com/?i=tt1677720&apikey=e55a0e19', 'https://www.omdbapi.com/?i=tt10838180&apikey=e55a0e19', 'https://www.omdbapi.com/?i=tt1950186&apikey=e55a0e19', 'https://www.omdbapi.com/?i=tt1160419&apikey=e55a0e19', 'https://www.omdbapi.com/?i=tt1856101&apikey=e55a0e19', 'https://www.omdbapi.com/?i=tt0816692&apikey=e55a0e19', 'https://www.omdbapi.com/?i=tt1877830&apikey=e55a0e19', 'https://www.omdbapi.com/?i=tt6710474&apikey=e55a0e19', 'https://www.omdbapi.com/?i=tt4998632&apikey=e55a0e19', 'https://www.omdbapi.com/?i=tt0133093&apikey=e55a0e19', 'https://www.omdbapi.com/?i=tt2382320&apikey=e55a0e19']\n"
     ]
    }
   ],
   "source": [
    "# https://www.omdbapi.com/?i=tt2382320&apikey=e55a0e19\n",
    "url_list = []\n",
    "import urllib.parse\n",
    "for imdbId in imdb_id_list:\n",
    "    url = 'https://www.omdbapi.com/?'\n",
    "    params = {'i': imdbId, 'apikey': 'e55a0e19'}\n",
    "    temp_url = str(url + urllib.parse.urlencode(params))\n",
    "    url_list.append(temp_url)\n",
    "print(url_list)"
   ],
   "metadata": {
    "collapsed": false
   }
  },
  {
   "cell_type": "code",
   "execution_count": 46,
   "outputs": [
    {
     "name": "stdout",
     "output_type": "stream",
     "text": [
      "stop\n"
     ]
    }
   ],
   "source": [
    "import requests\n",
    "import json\n",
    "data_list = []\n",
    "for api_url in url_list:\n",
    "    resp = requests.get(api_url)\n",
    "    resp.raise_for_status()\n",
    "    data = resp.json()\n",
    "    data_list.append(data)\n",
    "\n",
    "print(\"stop\")"
   ],
   "metadata": {
    "collapsed": false
   }
  },
  {
   "cell_type": "code",
   "execution_count": 47,
   "outputs": [],
   "source": [
    "data_list_df = pd.DataFrame(data_list)"
   ],
   "metadata": {
    "collapsed": false
   }
  },
  {
   "cell_type": "code",
   "execution_count": 48,
   "outputs": [
    {
     "data": {
      "text/plain": "                                Title  Year  Rated     Released  Runtime  \\\n0             The Secret Life of Pets  2016     PG  08 Jul 2016   87 min   \n1                    Edge of Tomorrow  2014  PG-13  06 Jun 2014  113 min   \n2                  Mad Max: Fury Road  2015      R  15 May 2015  120 min   \n3                   Top Gun: Maverick  2022  PG-13  27 May 2022  130 min   \n4                    Ready Player One  2018  PG-13  29 Mar 2018  140 min   \n5            The Matrix Resurrections  2021      R  22 Dec 2021  148 min   \n6                      Ford v Ferrari  2019  PG-13  15 Nov 2019  152 min   \n7                                Dune  2021  PG-13  22 Oct 2021  155 min   \n8                   Blade Runner 2049  2017      R  06 Oct 2017  164 min   \n9                        Interstellar  2014  PG-13  07 Nov 2014  169 min   \n10                         The Batman  2022  PG-13  04 Mar 2022  176 min   \n11  Everything Everywhere All at Once  2022      R  08 Apr 2022  139 min   \n12                          Ambulance  2022      R  08 Apr 2022  136 min   \n13                         The Matrix  1999      R  31 Mar 1999  136 min   \n14                     No Time to Die  2021  PG-13  08 Oct 2021  163 min   \n\n                           Genre                         Director  \\\n0   Animation, Adventure, Comedy                     Chris Renaud   \n1      Action, Adventure, Sci-Fi                       Doug Liman   \n2      Action, Adventure, Sci-Fi                    George Miller   \n3                  Action, Drama                  Joseph Kosinski   \n4      Action, Adventure, Sci-Fi                 Steven Spielberg   \n5                 Action, Sci-Fi                   Lana Wachowski   \n6       Action, Biography, Drama                    James Mangold   \n7       Action, Adventure, Drama                 Denis Villeneuve   \n8         Action, Drama, Mystery                 Denis Villeneuve   \n9       Adventure, Drama, Sci-Fi                Christopher Nolan   \n10          Action, Crime, Drama                      Matt Reeves   \n11     Action, Adventure, Comedy    Daniel Kwan, Daniel Scheinert   \n12          Action, Crime, Drama                      Michael Bay   \n13                Action, Sci-Fi  Lana Wachowski, Lilly Wachowski   \n14   Action, Adventure, Thriller               Cary Joji Fukunaga   \n\n                                               Writer  \\\n0                 Cinco Paul, Ken Daurio, Brian Lynch   \n1   Christopher McQuarrie, Jez Butterworth, John-H...   \n2     George Miller, Brendan McCarthy, Nick Lathouris   \n3                Jim Cash, Jack Epps Jr., Peter Craig   \n4                              Zak Penn, Ernest Cline   \n5    Lana Wachowski, David Mitchell, Aleksandar Hemon   \n6   Jez Butterworth, John-Henry Butterworth, Jason...   \n7            Jon Spaihts, Denis Villeneuve, Eric Roth   \n8      Hampton Fancher, Michael Green, Philip K. Dick   \n9                   Jonathan Nolan, Christopher Nolan   \n10                 Matt Reeves, Peter Craig, Bob Kane   \n11                      Daniel Kwan, Daniel Scheinert   \n12  Chris Fedak, Laurits Munch-Petersen, Lars Andr...   \n13                    Lilly Wachowski, Lana Wachowski   \n14       Neal Purvis, Robert Wade, Cary Joji Fukunaga   \n\n                                               Actors  \\\n0            Louis C.K., Eric Stonestreet, Kevin Hart   \n1                Tom Cruise, Emily Blunt, Bill Paxton   \n2          Tom Hardy, Charlize Theron, Nicholas Hoult   \n3         Tom Cruise, Jennifer Connelly, Miles Teller   \n4          Tye Sheridan, Olivia Cooke, Ben Mendelsohn   \n5   Keanu Reeves, Carrie-Anne Moss, Yahya Abdul-Ma...   \n6            Matt Damon, Christian Bale, Jon Bernthal   \n7        Timothée Chalamet, Rebecca Ferguson, Zendaya   \n8           Harrison Ford, Ryan Gosling, Ana de Armas   \n9   Matthew McConaughey, Anne Hathaway, Jessica Ch...   \n10      Robert Pattinson, Zoë Kravitz, Jeffrey Wright   \n11     Michelle Yeoh, Stephanie Hsu, Jamie Lee Curtis   \n12  Jake Gyllenhaal, Yahya Abdul-Mateen II, Eiza G...   \n13  Keanu Reeves, Laurence Fishburne, Carrie-Anne ...   \n14             Daniel Craig, Ana de Armas, Rami Malek   \n\n                                                 Plot  ... Metascore  \\\n0   The quiet life of a terrier named Max is upend...  ...        61   \n1   A soldier fighting aliens gets to relive the s...  ...        71   \n2   In a post-apocalyptic wasteland, a woman rebel...  ...        90   \n3   After thirty years, Maverick is still pushing ...  ...        78   \n4   When the creator of a virtual reality called t...  ...        64   \n5   Return to a world of two realities: one, every...  ...        63   \n6   American car designer Carroll Shelby and drive...  ...        81   \n7   A noble family becomes embroiled in a war for ...  ...        74   \n8   Young Blade Runner K's discovery of a long-bur...  ...        81   \n9   A team of explorers travel through a wormhole ...  ...        74   \n10  When a sadistic serial killer begins murdering...  ...        72   \n11  A middle-aged Chinese immigrant is swept up in...  ...        81   \n12  Two robbers steal an ambulance after their hei...  ...        55   \n13  When a beautiful stranger leads computer hacke...  ...        73   \n14  James Bond has left active service. His peace ...  ...        68   \n\n   imdbRating  imdbVotes      imdbID   Type          DVD     BoxOffice  \\\n0         6.5    207,856   tt2709768  movie  06 Dec 2016  $368,384,330   \n1         7.9    696,962   tt1631867  movie  07 Oct 2014  $100,206,256   \n2         8.1  1,026,101   tt1392190  movie  01 Sep 2015  $154,109,060   \n3         8.3    577,834   tt1745960  movie  22 Aug 2022  $718,732,821   \n4         7.4    452,315   tt1677720  movie  05 Apr 2018  $137,715,350   \n5         5.7    259,823  tt10838180  movie  22 Dec 2021   $37,686,805   \n6         8.1    414,884   tt1950186  movie  15 Nov 2019  $117,624,357   \n7         8.0    665,392   tt1160419  movie  22 Oct 2021  $108,327,830   \n8         8.0    599,573   tt1856101  movie  16 Jan 2018   $92,071,675   \n9         8.6  1,898,118   tt0816692  movie  31 Mar 2015  $188,020,017   \n10        7.8    692,486   tt1877830  movie  19 Apr 2022  $369,345,583   \n11        7.9    428,822   tt6710474  movie  07 Jun 2022   $77,169,469   \n12        6.1     81,221   tt4998632  movie  24 May 2022   $22,781,115   \n13        8.7  1,947,879   tt0133093  movie  15 May 2007  $172,076,928   \n14        7.3    415,836   tt2382320  movie  09 Nov 2021  $160,891,007   \n\n   Production Website Response  \n0         N/A     N/A     True  \n1         N/A     N/A     True  \n2         N/A     N/A     True  \n3         N/A     N/A     True  \n4         N/A     N/A     True  \n5         N/A     N/A     True  \n6         N/A     N/A     True  \n7         N/A     N/A     True  \n8         N/A     N/A     True  \n9         N/A     N/A     True  \n10        N/A     N/A     True  \n11        N/A     N/A     True  \n12        N/A     N/A     True  \n13        N/A     N/A     True  \n14        N/A     N/A     True  \n\n[15 rows x 25 columns]",
      "text/html": "<div>\n<style scoped>\n    .dataframe tbody tr th:only-of-type {\n        vertical-align: middle;\n    }\n\n    .dataframe tbody tr th {\n        vertical-align: top;\n    }\n\n    .dataframe thead th {\n        text-align: right;\n    }\n</style>\n<table border=\"1\" class=\"dataframe\">\n  <thead>\n    <tr style=\"text-align: right;\">\n      <th></th>\n      <th>Title</th>\n      <th>Year</th>\n      <th>Rated</th>\n      <th>Released</th>\n      <th>Runtime</th>\n      <th>Genre</th>\n      <th>Director</th>\n      <th>Writer</th>\n      <th>Actors</th>\n      <th>Plot</th>\n      <th>...</th>\n      <th>Metascore</th>\n      <th>imdbRating</th>\n      <th>imdbVotes</th>\n      <th>imdbID</th>\n      <th>Type</th>\n      <th>DVD</th>\n      <th>BoxOffice</th>\n      <th>Production</th>\n      <th>Website</th>\n      <th>Response</th>\n    </tr>\n  </thead>\n  <tbody>\n    <tr>\n      <th>0</th>\n      <td>The Secret Life of Pets</td>\n      <td>2016</td>\n      <td>PG</td>\n      <td>08 Jul 2016</td>\n      <td>87 min</td>\n      <td>Animation, Adventure, Comedy</td>\n      <td>Chris Renaud</td>\n      <td>Cinco Paul, Ken Daurio, Brian Lynch</td>\n      <td>Louis C.K., Eric Stonestreet, Kevin Hart</td>\n      <td>The quiet life of a terrier named Max is upend...</td>\n      <td>...</td>\n      <td>61</td>\n      <td>6.5</td>\n      <td>207,856</td>\n      <td>tt2709768</td>\n      <td>movie</td>\n      <td>06 Dec 2016</td>\n      <td>$368,384,330</td>\n      <td>N/A</td>\n      <td>N/A</td>\n      <td>True</td>\n    </tr>\n    <tr>\n      <th>1</th>\n      <td>Edge of Tomorrow</td>\n      <td>2014</td>\n      <td>PG-13</td>\n      <td>06 Jun 2014</td>\n      <td>113 min</td>\n      <td>Action, Adventure, Sci-Fi</td>\n      <td>Doug Liman</td>\n      <td>Christopher McQuarrie, Jez Butterworth, John-H...</td>\n      <td>Tom Cruise, Emily Blunt, Bill Paxton</td>\n      <td>A soldier fighting aliens gets to relive the s...</td>\n      <td>...</td>\n      <td>71</td>\n      <td>7.9</td>\n      <td>696,962</td>\n      <td>tt1631867</td>\n      <td>movie</td>\n      <td>07 Oct 2014</td>\n      <td>$100,206,256</td>\n      <td>N/A</td>\n      <td>N/A</td>\n      <td>True</td>\n    </tr>\n    <tr>\n      <th>2</th>\n      <td>Mad Max: Fury Road</td>\n      <td>2015</td>\n      <td>R</td>\n      <td>15 May 2015</td>\n      <td>120 min</td>\n      <td>Action, Adventure, Sci-Fi</td>\n      <td>George Miller</td>\n      <td>George Miller, Brendan McCarthy, Nick Lathouris</td>\n      <td>Tom Hardy, Charlize Theron, Nicholas Hoult</td>\n      <td>In a post-apocalyptic wasteland, a woman rebel...</td>\n      <td>...</td>\n      <td>90</td>\n      <td>8.1</td>\n      <td>1,026,101</td>\n      <td>tt1392190</td>\n      <td>movie</td>\n      <td>01 Sep 2015</td>\n      <td>$154,109,060</td>\n      <td>N/A</td>\n      <td>N/A</td>\n      <td>True</td>\n    </tr>\n    <tr>\n      <th>3</th>\n      <td>Top Gun: Maverick</td>\n      <td>2022</td>\n      <td>PG-13</td>\n      <td>27 May 2022</td>\n      <td>130 min</td>\n      <td>Action, Drama</td>\n      <td>Joseph Kosinski</td>\n      <td>Jim Cash, Jack Epps Jr., Peter Craig</td>\n      <td>Tom Cruise, Jennifer Connelly, Miles Teller</td>\n      <td>After thirty years, Maverick is still pushing ...</td>\n      <td>...</td>\n      <td>78</td>\n      <td>8.3</td>\n      <td>577,834</td>\n      <td>tt1745960</td>\n      <td>movie</td>\n      <td>22 Aug 2022</td>\n      <td>$718,732,821</td>\n      <td>N/A</td>\n      <td>N/A</td>\n      <td>True</td>\n    </tr>\n    <tr>\n      <th>4</th>\n      <td>Ready Player One</td>\n      <td>2018</td>\n      <td>PG-13</td>\n      <td>29 Mar 2018</td>\n      <td>140 min</td>\n      <td>Action, Adventure, Sci-Fi</td>\n      <td>Steven Spielberg</td>\n      <td>Zak Penn, Ernest Cline</td>\n      <td>Tye Sheridan, Olivia Cooke, Ben Mendelsohn</td>\n      <td>When the creator of a virtual reality called t...</td>\n      <td>...</td>\n      <td>64</td>\n      <td>7.4</td>\n      <td>452,315</td>\n      <td>tt1677720</td>\n      <td>movie</td>\n      <td>05 Apr 2018</td>\n      <td>$137,715,350</td>\n      <td>N/A</td>\n      <td>N/A</td>\n      <td>True</td>\n    </tr>\n    <tr>\n      <th>5</th>\n      <td>The Matrix Resurrections</td>\n      <td>2021</td>\n      <td>R</td>\n      <td>22 Dec 2021</td>\n      <td>148 min</td>\n      <td>Action, Sci-Fi</td>\n      <td>Lana Wachowski</td>\n      <td>Lana Wachowski, David Mitchell, Aleksandar Hemon</td>\n      <td>Keanu Reeves, Carrie-Anne Moss, Yahya Abdul-Ma...</td>\n      <td>Return to a world of two realities: one, every...</td>\n      <td>...</td>\n      <td>63</td>\n      <td>5.7</td>\n      <td>259,823</td>\n      <td>tt10838180</td>\n      <td>movie</td>\n      <td>22 Dec 2021</td>\n      <td>$37,686,805</td>\n      <td>N/A</td>\n      <td>N/A</td>\n      <td>True</td>\n    </tr>\n    <tr>\n      <th>6</th>\n      <td>Ford v Ferrari</td>\n      <td>2019</td>\n      <td>PG-13</td>\n      <td>15 Nov 2019</td>\n      <td>152 min</td>\n      <td>Action, Biography, Drama</td>\n      <td>James Mangold</td>\n      <td>Jez Butterworth, John-Henry Butterworth, Jason...</td>\n      <td>Matt Damon, Christian Bale, Jon Bernthal</td>\n      <td>American car designer Carroll Shelby and drive...</td>\n      <td>...</td>\n      <td>81</td>\n      <td>8.1</td>\n      <td>414,884</td>\n      <td>tt1950186</td>\n      <td>movie</td>\n      <td>15 Nov 2019</td>\n      <td>$117,624,357</td>\n      <td>N/A</td>\n      <td>N/A</td>\n      <td>True</td>\n    </tr>\n    <tr>\n      <th>7</th>\n      <td>Dune</td>\n      <td>2021</td>\n      <td>PG-13</td>\n      <td>22 Oct 2021</td>\n      <td>155 min</td>\n      <td>Action, Adventure, Drama</td>\n      <td>Denis Villeneuve</td>\n      <td>Jon Spaihts, Denis Villeneuve, Eric Roth</td>\n      <td>Timothée Chalamet, Rebecca Ferguson, Zendaya</td>\n      <td>A noble family becomes embroiled in a war for ...</td>\n      <td>...</td>\n      <td>74</td>\n      <td>8.0</td>\n      <td>665,392</td>\n      <td>tt1160419</td>\n      <td>movie</td>\n      <td>22 Oct 2021</td>\n      <td>$108,327,830</td>\n      <td>N/A</td>\n      <td>N/A</td>\n      <td>True</td>\n    </tr>\n    <tr>\n      <th>8</th>\n      <td>Blade Runner 2049</td>\n      <td>2017</td>\n      <td>R</td>\n      <td>06 Oct 2017</td>\n      <td>164 min</td>\n      <td>Action, Drama, Mystery</td>\n      <td>Denis Villeneuve</td>\n      <td>Hampton Fancher, Michael Green, Philip K. Dick</td>\n      <td>Harrison Ford, Ryan Gosling, Ana de Armas</td>\n      <td>Young Blade Runner K's discovery of a long-bur...</td>\n      <td>...</td>\n      <td>81</td>\n      <td>8.0</td>\n      <td>599,573</td>\n      <td>tt1856101</td>\n      <td>movie</td>\n      <td>16 Jan 2018</td>\n      <td>$92,071,675</td>\n      <td>N/A</td>\n      <td>N/A</td>\n      <td>True</td>\n    </tr>\n    <tr>\n      <th>9</th>\n      <td>Interstellar</td>\n      <td>2014</td>\n      <td>PG-13</td>\n      <td>07 Nov 2014</td>\n      <td>169 min</td>\n      <td>Adventure, Drama, Sci-Fi</td>\n      <td>Christopher Nolan</td>\n      <td>Jonathan Nolan, Christopher Nolan</td>\n      <td>Matthew McConaughey, Anne Hathaway, Jessica Ch...</td>\n      <td>A team of explorers travel through a wormhole ...</td>\n      <td>...</td>\n      <td>74</td>\n      <td>8.6</td>\n      <td>1,898,118</td>\n      <td>tt0816692</td>\n      <td>movie</td>\n      <td>31 Mar 2015</td>\n      <td>$188,020,017</td>\n      <td>N/A</td>\n      <td>N/A</td>\n      <td>True</td>\n    </tr>\n    <tr>\n      <th>10</th>\n      <td>The Batman</td>\n      <td>2022</td>\n      <td>PG-13</td>\n      <td>04 Mar 2022</td>\n      <td>176 min</td>\n      <td>Action, Crime, Drama</td>\n      <td>Matt Reeves</td>\n      <td>Matt Reeves, Peter Craig, Bob Kane</td>\n      <td>Robert Pattinson, Zoë Kravitz, Jeffrey Wright</td>\n      <td>When a sadistic serial killer begins murdering...</td>\n      <td>...</td>\n      <td>72</td>\n      <td>7.8</td>\n      <td>692,486</td>\n      <td>tt1877830</td>\n      <td>movie</td>\n      <td>19 Apr 2022</td>\n      <td>$369,345,583</td>\n      <td>N/A</td>\n      <td>N/A</td>\n      <td>True</td>\n    </tr>\n    <tr>\n      <th>11</th>\n      <td>Everything Everywhere All at Once</td>\n      <td>2022</td>\n      <td>R</td>\n      <td>08 Apr 2022</td>\n      <td>139 min</td>\n      <td>Action, Adventure, Comedy</td>\n      <td>Daniel Kwan, Daniel Scheinert</td>\n      <td>Daniel Kwan, Daniel Scheinert</td>\n      <td>Michelle Yeoh, Stephanie Hsu, Jamie Lee Curtis</td>\n      <td>A middle-aged Chinese immigrant is swept up in...</td>\n      <td>...</td>\n      <td>81</td>\n      <td>7.9</td>\n      <td>428,822</td>\n      <td>tt6710474</td>\n      <td>movie</td>\n      <td>07 Jun 2022</td>\n      <td>$77,169,469</td>\n      <td>N/A</td>\n      <td>N/A</td>\n      <td>True</td>\n    </tr>\n    <tr>\n      <th>12</th>\n      <td>Ambulance</td>\n      <td>2022</td>\n      <td>R</td>\n      <td>08 Apr 2022</td>\n      <td>136 min</td>\n      <td>Action, Crime, Drama</td>\n      <td>Michael Bay</td>\n      <td>Chris Fedak, Laurits Munch-Petersen, Lars Andr...</td>\n      <td>Jake Gyllenhaal, Yahya Abdul-Mateen II, Eiza G...</td>\n      <td>Two robbers steal an ambulance after their hei...</td>\n      <td>...</td>\n      <td>55</td>\n      <td>6.1</td>\n      <td>81,221</td>\n      <td>tt4998632</td>\n      <td>movie</td>\n      <td>24 May 2022</td>\n      <td>$22,781,115</td>\n      <td>N/A</td>\n      <td>N/A</td>\n      <td>True</td>\n    </tr>\n    <tr>\n      <th>13</th>\n      <td>The Matrix</td>\n      <td>1999</td>\n      <td>R</td>\n      <td>31 Mar 1999</td>\n      <td>136 min</td>\n      <td>Action, Sci-Fi</td>\n      <td>Lana Wachowski, Lilly Wachowski</td>\n      <td>Lilly Wachowski, Lana Wachowski</td>\n      <td>Keanu Reeves, Laurence Fishburne, Carrie-Anne ...</td>\n      <td>When a beautiful stranger leads computer hacke...</td>\n      <td>...</td>\n      <td>73</td>\n      <td>8.7</td>\n      <td>1,947,879</td>\n      <td>tt0133093</td>\n      <td>movie</td>\n      <td>15 May 2007</td>\n      <td>$172,076,928</td>\n      <td>N/A</td>\n      <td>N/A</td>\n      <td>True</td>\n    </tr>\n    <tr>\n      <th>14</th>\n      <td>No Time to Die</td>\n      <td>2021</td>\n      <td>PG-13</td>\n      <td>08 Oct 2021</td>\n      <td>163 min</td>\n      <td>Action, Adventure, Thriller</td>\n      <td>Cary Joji Fukunaga</td>\n      <td>Neal Purvis, Robert Wade, Cary Joji Fukunaga</td>\n      <td>Daniel Craig, Ana de Armas, Rami Malek</td>\n      <td>James Bond has left active service. His peace ...</td>\n      <td>...</td>\n      <td>68</td>\n      <td>7.3</td>\n      <td>415,836</td>\n      <td>tt2382320</td>\n      <td>movie</td>\n      <td>09 Nov 2021</td>\n      <td>$160,891,007</td>\n      <td>N/A</td>\n      <td>N/A</td>\n      <td>True</td>\n    </tr>\n  </tbody>\n</table>\n<p>15 rows × 25 columns</p>\n</div>"
     },
     "execution_count": 48,
     "metadata": {},
     "output_type": "execute_result"
    }
   ],
   "source": [
    "data_list_df.head(15)\n"
   ],
   "metadata": {
    "collapsed": false
   }
  },
  {
   "cell_type": "code",
   "execution_count": 49,
   "outputs": [
    {
     "data": {
      "text/plain": "                          Title  Year  Rated     Released  Runtime  \\\ncount                        15    15     15           15       15   \nunique                       15     9      3           14       14   \ntop     The Secret Life of Pets  2022  PG-13  08 Apr 2022  136 min   \nfreq                          1     4      8            2        2   \n\n                            Genre          Director  \\\ncount                          15                15   \nunique                         11                14   \ntop     Action, Adventure, Sci-Fi  Denis Villeneuve   \nfreq                            3                 2   \n\n                                     Writer  \\\ncount                                    15   \nunique                                   15   \ntop     Cinco Paul, Ken Daurio, Brian Lynch   \nfreq                                      1   \n\n                                          Actors  \\\ncount                                         15   \nunique                                        15   \ntop     Louis C.K., Eric Stonestreet, Kevin Hart   \nfreq                                           1   \n\n                                                     Plot  ... Metascore  \\\ncount                                                  15  ...        15   \nunique                                                 15  ...        12   \ntop     The quiet life of a terrier named Max is upend...  ...        81   \nfreq                                                    1  ...         3   \n\n       imdbRating imdbVotes     imdbID   Type          DVD     BoxOffice  \\\ncount          15        15         15     15           15            15   \nunique         12        15         15      1           15            15   \ntop           7.9   207,856  tt2709768  movie  06 Dec 2016  $368,384,330   \nfreq            2         1          1     15            1             1   \n\n       Production Website Response  \ncount          15      15       15  \nunique          1       1        1  \ntop           N/A     N/A     True  \nfreq           15      15       15  \n\n[4 rows x 25 columns]",
      "text/html": "<div>\n<style scoped>\n    .dataframe tbody tr th:only-of-type {\n        vertical-align: middle;\n    }\n\n    .dataframe tbody tr th {\n        vertical-align: top;\n    }\n\n    .dataframe thead th {\n        text-align: right;\n    }\n</style>\n<table border=\"1\" class=\"dataframe\">\n  <thead>\n    <tr style=\"text-align: right;\">\n      <th></th>\n      <th>Title</th>\n      <th>Year</th>\n      <th>Rated</th>\n      <th>Released</th>\n      <th>Runtime</th>\n      <th>Genre</th>\n      <th>Director</th>\n      <th>Writer</th>\n      <th>Actors</th>\n      <th>Plot</th>\n      <th>...</th>\n      <th>Metascore</th>\n      <th>imdbRating</th>\n      <th>imdbVotes</th>\n      <th>imdbID</th>\n      <th>Type</th>\n      <th>DVD</th>\n      <th>BoxOffice</th>\n      <th>Production</th>\n      <th>Website</th>\n      <th>Response</th>\n    </tr>\n  </thead>\n  <tbody>\n    <tr>\n      <th>count</th>\n      <td>15</td>\n      <td>15</td>\n      <td>15</td>\n      <td>15</td>\n      <td>15</td>\n      <td>15</td>\n      <td>15</td>\n      <td>15</td>\n      <td>15</td>\n      <td>15</td>\n      <td>...</td>\n      <td>15</td>\n      <td>15</td>\n      <td>15</td>\n      <td>15</td>\n      <td>15</td>\n      <td>15</td>\n      <td>15</td>\n      <td>15</td>\n      <td>15</td>\n      <td>15</td>\n    </tr>\n    <tr>\n      <th>unique</th>\n      <td>15</td>\n      <td>9</td>\n      <td>3</td>\n      <td>14</td>\n      <td>14</td>\n      <td>11</td>\n      <td>14</td>\n      <td>15</td>\n      <td>15</td>\n      <td>15</td>\n      <td>...</td>\n      <td>12</td>\n      <td>12</td>\n      <td>15</td>\n      <td>15</td>\n      <td>1</td>\n      <td>15</td>\n      <td>15</td>\n      <td>1</td>\n      <td>1</td>\n      <td>1</td>\n    </tr>\n    <tr>\n      <th>top</th>\n      <td>The Secret Life of Pets</td>\n      <td>2022</td>\n      <td>PG-13</td>\n      <td>08 Apr 2022</td>\n      <td>136 min</td>\n      <td>Action, Adventure, Sci-Fi</td>\n      <td>Denis Villeneuve</td>\n      <td>Cinco Paul, Ken Daurio, Brian Lynch</td>\n      <td>Louis C.K., Eric Stonestreet, Kevin Hart</td>\n      <td>The quiet life of a terrier named Max is upend...</td>\n      <td>...</td>\n      <td>81</td>\n      <td>7.9</td>\n      <td>207,856</td>\n      <td>tt2709768</td>\n      <td>movie</td>\n      <td>06 Dec 2016</td>\n      <td>$368,384,330</td>\n      <td>N/A</td>\n      <td>N/A</td>\n      <td>True</td>\n    </tr>\n    <tr>\n      <th>freq</th>\n      <td>1</td>\n      <td>4</td>\n      <td>8</td>\n      <td>2</td>\n      <td>2</td>\n      <td>3</td>\n      <td>2</td>\n      <td>1</td>\n      <td>1</td>\n      <td>1</td>\n      <td>...</td>\n      <td>3</td>\n      <td>2</td>\n      <td>1</td>\n      <td>1</td>\n      <td>15</td>\n      <td>1</td>\n      <td>1</td>\n      <td>15</td>\n      <td>15</td>\n      <td>15</td>\n    </tr>\n  </tbody>\n</table>\n<p>4 rows × 25 columns</p>\n</div>"
     },
     "execution_count": 49,
     "metadata": {},
     "output_type": "execute_result"
    }
   ],
   "source": [
    "data_list_df.describe()"
   ],
   "metadata": {
    "collapsed": false
   }
  },
  {
   "cell_type": "code",
   "execution_count": 50,
   "outputs": [
    {
     "name": "stdout",
     "output_type": "stream",
     "text": [
      "<class 'pandas.core.frame.DataFrame'>\n",
      "RangeIndex: 15 entries, 0 to 14\n",
      "Data columns (total 25 columns):\n",
      " #   Column      Non-Null Count  Dtype \n",
      "---  ------      --------------  ----- \n",
      " 0   Title       15 non-null     object\n",
      " 1   Year        15 non-null     object\n",
      " 2   Rated       15 non-null     object\n",
      " 3   Released    15 non-null     object\n",
      " 4   Runtime     15 non-null     object\n",
      " 5   Genre       15 non-null     object\n",
      " 6   Director    15 non-null     object\n",
      " 7   Writer      15 non-null     object\n",
      " 8   Actors      15 non-null     object\n",
      " 9   Plot        15 non-null     object\n",
      " 10  Language    15 non-null     object\n",
      " 11  Country     15 non-null     object\n",
      " 12  Awards      15 non-null     object\n",
      " 13  Poster      15 non-null     object\n",
      " 14  Ratings     15 non-null     object\n",
      " 15  Metascore   15 non-null     object\n",
      " 16  imdbRating  15 non-null     object\n",
      " 17  imdbVotes   15 non-null     object\n",
      " 18  imdbID      15 non-null     object\n",
      " 19  Type        15 non-null     object\n",
      " 20  DVD         15 non-null     object\n",
      " 21  BoxOffice   15 non-null     object\n",
      " 22  Production  15 non-null     object\n",
      " 23  Website     15 non-null     object\n",
      " 24  Response    15 non-null     object\n",
      "dtypes: object(25)\n",
      "memory usage: 3.1+ KB\n"
     ]
    }
   ],
   "source": [
    "data_list_df.info()"
   ],
   "metadata": {
    "collapsed": false
   }
  },
  {
   "cell_type": "code",
   "execution_count": 51,
   "outputs": [],
   "source": [
    "data_list_df.to_csv(r'C:\\My\\Workspace\\Python_Projects\\Movies_Data\\output_files\\\\movie_list_detail.csv', index=False)"
   ],
   "metadata": {
    "collapsed": false
   }
  },
  {
   "cell_type": "code",
   "execution_count": null,
   "outputs": [],
   "source": [],
   "metadata": {
    "collapsed": false
   }
  }
 ],
 "metadata": {
  "kernelspec": {
   "display_name": "Python 3",
   "language": "python",
   "name": "python3"
  },
  "language_info": {
   "codemirror_mode": {
    "name": "ipython",
    "version": 2
   },
   "file_extension": ".py",
   "mimetype": "text/x-python",
   "name": "python",
   "nbconvert_exporter": "python",
   "pygments_lexer": "ipython2",
   "version": "2.7.6"
  }
 },
 "nbformat": 4,
 "nbformat_minor": 0
}
