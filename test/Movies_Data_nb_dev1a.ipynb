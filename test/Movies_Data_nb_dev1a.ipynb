{
 "cells": [
  {
   "cell_type": "code",
   "execution_count": 55,
   "metadata": {
    "collapsed": true
   },
   "outputs": [],
   "source": [
    "import omdb\n",
    "import pandas as pd\n",
    "from omdb import OMDBClient\n",
    "client = OMDBClient(apikey='e55a0e19')"
   ]
  },
  {
   "cell_type": "code",
   "execution_count": 56,
   "outputs": [
    {
     "data": {
      "text/plain": "               Title  Year_Released\n0          Ambulance           2022\n1  Blade Runner 2049           2017\n2               Dune           2021\n3   Edge Of Tomorrow           2014\n4            Everest           2015",
      "text/html": "<div>\n<style scoped>\n    .dataframe tbody tr th:only-of-type {\n        vertical-align: middle;\n    }\n\n    .dataframe tbody tr th {\n        vertical-align: top;\n    }\n\n    .dataframe thead th {\n        text-align: right;\n    }\n</style>\n<table border=\"1\" class=\"dataframe\">\n  <thead>\n    <tr style=\"text-align: right;\">\n      <th></th>\n      <th>Title</th>\n      <th>Year_Released</th>\n    </tr>\n  </thead>\n  <tbody>\n    <tr>\n      <th>0</th>\n      <td>Ambulance</td>\n      <td>2022</td>\n    </tr>\n    <tr>\n      <th>1</th>\n      <td>Blade Runner 2049</td>\n      <td>2017</td>\n    </tr>\n    <tr>\n      <th>2</th>\n      <td>Dune</td>\n      <td>2021</td>\n    </tr>\n    <tr>\n      <th>3</th>\n      <td>Edge Of Tomorrow</td>\n      <td>2014</td>\n    </tr>\n    <tr>\n      <th>4</th>\n      <td>Everest</td>\n      <td>2015</td>\n    </tr>\n  </tbody>\n</table>\n</div>"
     },
     "execution_count": 56,
     "metadata": {},
     "output_type": "execute_result"
    }
   ],
   "source": [
    "csv_data = pd.read_csv('C:\\My\\Workspace\\Python_Projects\\Movies_Data\\input_files\\\\film_list.csv')\n",
    "csv_data.head()"
   ],
   "metadata": {
    "collapsed": false
   }
  },
  {
   "cell_type": "code",
   "execution_count": 57,
   "outputs": [],
   "source": [
    "def get_film_object(row):\n",
    "    film_title = row['Title']\n",
    "    film_year_released = str(row['Year_Released'])\n",
    "    film_object = client.search(film_title, year=film_year_released)\n",
    "    return film_object[0]\n",
    "\n",
    "csv_data['film_object'] = csv_data.apply(get_film_object, axis=1)\n",
    "film_data = csv_data['film_object'].tolist()"
   ],
   "metadata": {
    "collapsed": false
   }
  },
  {
   "cell_type": "code",
   "execution_count": 58,
   "outputs": [
    {
     "name": "stdout",
     "output_type": "stream",
     "text": [
      "stip\n"
     ]
    }
   ],
   "source": [
    "full_df = pd.DataFrame(film_data)\n",
    "full_df.reset_index()\n",
    "print('stip')"
   ],
   "metadata": {
    "collapsed": false
   }
  },
  {
   "cell_type": "code",
   "execution_count": 59,
   "outputs": [
    {
     "data": {
      "text/plain": "                                title  year     imdb_id   type  \\\n0                           Ambulance  2022   tt4998632  movie   \n1                   Blade Runner 2049  2017   tt1856101  movie   \n2                                Dune  2021   tt1160419  movie   \n3                    Edge of Tomorrow  2014   tt1631867  movie   \n4                             Everest  2015   tt2719848  movie   \n5   Everything Everywhere All at Once  2022   tt6710474  movie   \n6                      Ford v Ferrari  2019   tt1950186  movie   \n7                        Interstellar  2014   tt0816692  movie   \n8                  Mad Max: Fury Road  2015   tt1392190  movie   \n9                      No Time to Die  2021   tt2382320  movie   \n10                   Ready Player One  2018   tt1677720  movie   \n11                 Sonic the Hedgehog  2020   tt3794354  movie   \n12               Sonic the Hedgehog 2  2022  tt12412888  movie   \n13                               Soul  2020   tt2948372  movie   \n14         Terminator 2: Judgment Day  1991   tt0103064  movie   \n\n                                               poster  \n0   https://m.media-amazon.com/images/M/MV5BYjUyN2...  \n1   https://m.media-amazon.com/images/M/MV5BNzA1Nj...  \n2   https://m.media-amazon.com/images/M/MV5BN2FjNm...  \n3   https://m.media-amazon.com/images/M/MV5BMTc5OT...  \n4   https://m.media-amazon.com/images/M/MV5BMTNmMz...  \n5   https://m.media-amazon.com/images/M/MV5BYTdiOT...  \n6   https://m.media-amazon.com/images/M/MV5BM2UwMD...  \n7   https://m.media-amazon.com/images/M/MV5BZjdkOT...  \n8   https://m.media-amazon.com/images/M/MV5BN2EwM2...  \n9   https://m.media-amazon.com/images/M/MV5BYWQ2Nz...  \n10  https://m.media-amazon.com/images/M/MV5BY2JiYT...  \n11  https://m.media-amazon.com/images/M/MV5BNTdmNm...  \n12  https://m.media-amazon.com/images/M/MV5BODRlNT...  \n13  https://m.media-amazon.com/images/M/MV5BZGE1MD...  \n14  https://m.media-amazon.com/images/M/MV5BMGU2Nz...  ",
      "text/html": "<div>\n<style scoped>\n    .dataframe tbody tr th:only-of-type {\n        vertical-align: middle;\n    }\n\n    .dataframe tbody tr th {\n        vertical-align: top;\n    }\n\n    .dataframe thead th {\n        text-align: right;\n    }\n</style>\n<table border=\"1\" class=\"dataframe\">\n  <thead>\n    <tr style=\"text-align: right;\">\n      <th></th>\n      <th>title</th>\n      <th>year</th>\n      <th>imdb_id</th>\n      <th>type</th>\n      <th>poster</th>\n    </tr>\n  </thead>\n  <tbody>\n    <tr>\n      <th>0</th>\n      <td>Ambulance</td>\n      <td>2022</td>\n      <td>tt4998632</td>\n      <td>movie</td>\n      <td>https://m.media-amazon.com/images/M/MV5BYjUyN2...</td>\n    </tr>\n    <tr>\n      <th>1</th>\n      <td>Blade Runner 2049</td>\n      <td>2017</td>\n      <td>tt1856101</td>\n      <td>movie</td>\n      <td>https://m.media-amazon.com/images/M/MV5BNzA1Nj...</td>\n    </tr>\n    <tr>\n      <th>2</th>\n      <td>Dune</td>\n      <td>2021</td>\n      <td>tt1160419</td>\n      <td>movie</td>\n      <td>https://m.media-amazon.com/images/M/MV5BN2FjNm...</td>\n    </tr>\n    <tr>\n      <th>3</th>\n      <td>Edge of Tomorrow</td>\n      <td>2014</td>\n      <td>tt1631867</td>\n      <td>movie</td>\n      <td>https://m.media-amazon.com/images/M/MV5BMTc5OT...</td>\n    </tr>\n    <tr>\n      <th>4</th>\n      <td>Everest</td>\n      <td>2015</td>\n      <td>tt2719848</td>\n      <td>movie</td>\n      <td>https://m.media-amazon.com/images/M/MV5BMTNmMz...</td>\n    </tr>\n    <tr>\n      <th>5</th>\n      <td>Everything Everywhere All at Once</td>\n      <td>2022</td>\n      <td>tt6710474</td>\n      <td>movie</td>\n      <td>https://m.media-amazon.com/images/M/MV5BYTdiOT...</td>\n    </tr>\n    <tr>\n      <th>6</th>\n      <td>Ford v Ferrari</td>\n      <td>2019</td>\n      <td>tt1950186</td>\n      <td>movie</td>\n      <td>https://m.media-amazon.com/images/M/MV5BM2UwMD...</td>\n    </tr>\n    <tr>\n      <th>7</th>\n      <td>Interstellar</td>\n      <td>2014</td>\n      <td>tt0816692</td>\n      <td>movie</td>\n      <td>https://m.media-amazon.com/images/M/MV5BZjdkOT...</td>\n    </tr>\n    <tr>\n      <th>8</th>\n      <td>Mad Max: Fury Road</td>\n      <td>2015</td>\n      <td>tt1392190</td>\n      <td>movie</td>\n      <td>https://m.media-amazon.com/images/M/MV5BN2EwM2...</td>\n    </tr>\n    <tr>\n      <th>9</th>\n      <td>No Time to Die</td>\n      <td>2021</td>\n      <td>tt2382320</td>\n      <td>movie</td>\n      <td>https://m.media-amazon.com/images/M/MV5BYWQ2Nz...</td>\n    </tr>\n    <tr>\n      <th>10</th>\n      <td>Ready Player One</td>\n      <td>2018</td>\n      <td>tt1677720</td>\n      <td>movie</td>\n      <td>https://m.media-amazon.com/images/M/MV5BY2JiYT...</td>\n    </tr>\n    <tr>\n      <th>11</th>\n      <td>Sonic the Hedgehog</td>\n      <td>2020</td>\n      <td>tt3794354</td>\n      <td>movie</td>\n      <td>https://m.media-amazon.com/images/M/MV5BNTdmNm...</td>\n    </tr>\n    <tr>\n      <th>12</th>\n      <td>Sonic the Hedgehog 2</td>\n      <td>2022</td>\n      <td>tt12412888</td>\n      <td>movie</td>\n      <td>https://m.media-amazon.com/images/M/MV5BODRlNT...</td>\n    </tr>\n    <tr>\n      <th>13</th>\n      <td>Soul</td>\n      <td>2020</td>\n      <td>tt2948372</td>\n      <td>movie</td>\n      <td>https://m.media-amazon.com/images/M/MV5BZGE1MD...</td>\n    </tr>\n    <tr>\n      <th>14</th>\n      <td>Terminator 2: Judgment Day</td>\n      <td>1991</td>\n      <td>tt0103064</td>\n      <td>movie</td>\n      <td>https://m.media-amazon.com/images/M/MV5BMGU2Nz...</td>\n    </tr>\n  </tbody>\n</table>\n</div>"
     },
     "execution_count": 59,
     "metadata": {},
     "output_type": "execute_result"
    }
   ],
   "source": [
    "full_df.head(15)\n",
    "# full_df.describe()"
   ],
   "metadata": {
    "collapsed": false
   }
  },
  {
   "cell_type": "code",
   "execution_count": 60,
   "outputs": [],
   "source": [
    "full_df.to_csv(r'C:\\My\\Workspace\\Python_Projects\\Movies_Data\\output_files\\\\movie_list.csv', sep='|', index=False)"
   ],
   "metadata": {
    "collapsed": false
   }
  },
  {
   "cell_type": "code",
   "execution_count": 61,
   "outputs": [],
   "source": [
    "def extract_column_to_list(df, column_name):\n",
    "    return df[column_name].tolist()\n",
    "\n",
    "# usage\n",
    "imdb_id_list = extract_column_to_list(full_df, 'imdb_id')"
   ],
   "metadata": {
    "collapsed": false
   }
  },
  {
   "cell_type": "code",
   "execution_count": 62,
   "outputs": [
    {
     "name": "stdout",
     "output_type": "stream",
     "text": [
      "['https://www.omdbapi.com/?i=tt4998632&apikey=e55a0e19', 'https://www.omdbapi.com/?i=tt1856101&apikey=e55a0e19', 'https://www.omdbapi.com/?i=tt1160419&apikey=e55a0e19', 'https://www.omdbapi.com/?i=tt1631867&apikey=e55a0e19', 'https://www.omdbapi.com/?i=tt2719848&apikey=e55a0e19', 'https://www.omdbapi.com/?i=tt6710474&apikey=e55a0e19', 'https://www.omdbapi.com/?i=tt1950186&apikey=e55a0e19', 'https://www.omdbapi.com/?i=tt0816692&apikey=e55a0e19', 'https://www.omdbapi.com/?i=tt1392190&apikey=e55a0e19', 'https://www.omdbapi.com/?i=tt2382320&apikey=e55a0e19', 'https://www.omdbapi.com/?i=tt1677720&apikey=e55a0e19', 'https://www.omdbapi.com/?i=tt3794354&apikey=e55a0e19', 'https://www.omdbapi.com/?i=tt12412888&apikey=e55a0e19', 'https://www.omdbapi.com/?i=tt2948372&apikey=e55a0e19', 'https://www.omdbapi.com/?i=tt0103064&apikey=e55a0e19', 'https://www.omdbapi.com/?i=tt1877830&apikey=e55a0e19', 'https://www.omdbapi.com/?i=tt0133093&apikey=e55a0e19', 'https://www.omdbapi.com/?i=tt0234215&apikey=e55a0e19', 'https://www.omdbapi.com/?i=tt10838180&apikey=e55a0e19', 'https://www.omdbapi.com/?i=tt0242653&apikey=e55a0e19', 'https://www.omdbapi.com/?i=tt2709768&apikey=e55a0e19', 'https://www.omdbapi.com/?i=tt1745960&apikey=e55a0e19']\n"
     ]
    }
   ],
   "source": [
    "# https://www.omdbapi.com/?i=tt2382320&apikey=e55a0e19\n",
    "url_list = []\n",
    "import urllib.parse\n",
    "for imdbId in imdb_id_list:\n",
    "    url = 'https://www.omdbapi.com/?'\n",
    "    params = {'i': imdbId, 'apikey': 'e55a0e19'}\n",
    "    temp_url = str(url + urllib.parse.urlencode(params))\n",
    "    url_list.append(temp_url)\n",
    "print(url_list)"
   ],
   "metadata": {
    "collapsed": false
   }
  },
  {
   "cell_type": "code",
   "execution_count": 63,
   "outputs": [
    {
     "name": "stdout",
     "output_type": "stream",
     "text": [
      "stop\n"
     ]
    }
   ],
   "source": [
    "import requests\n",
    "import json\n",
    "data_list = []\n",
    "for api_url in url_list:\n",
    "    resp = requests.get(api_url)\n",
    "    resp.raise_for_status()\n",
    "    data = resp.json()\n",
    "    data_list.append(data)\n",
    "\n",
    "print(\"stop\")"
   ],
   "metadata": {
    "collapsed": false
   }
  },
  {
   "cell_type": "code",
   "execution_count": 64,
   "outputs": [],
   "source": [
    "data_list_df = pd.DataFrame(data_list)"
   ],
   "metadata": {
    "collapsed": false
   }
  },
  {
   "cell_type": "code",
   "execution_count": 65,
   "outputs": [],
   "source": [
    "# column_list=[\"Title\",\"Year\",\"Rated\",\"Released\",\"Runtime\",\"Genre\",\"Director\",\"Writer\",\"Actors\",\"Plot\",\"Language\",\"Country\",\"Awards\",\"Poster\",\"Ratings\",\"Metascore\",\"imdbRating\",\"imdbVotes\",\"imdbID\",\"Type\",\"DVD\",\"BoxOffice\",\"Production\",\"Website\",\"Response\"]"
   ],
   "metadata": {
    "collapsed": false
   }
  },
  {
   "cell_type": "code",
   "execution_count": 66,
   "outputs": [],
   "source": [
    "column_list=[\"Title\",\"Year\",\"Rated\",\"Released\",\"Runtime\",\"Genre\",\"Director\",\"Writer\",\"Actors\",\"Plot\",\"Language\",\"Country\",\"Awards\",\"Poster\",\"Ratings\",\"Metascore\",\"imdbRating\",\"imdbVotes\",\"imdbID\",\"Type\",\"DVD\",\"BoxOffice\",\"Production\",\"Website\"]\n",
    "data_list_df_partial = pd.DataFrame(data_list_df, columns=column_list)"
   ],
   "metadata": {
    "collapsed": false
   }
  },
  {
   "cell_type": "code",
   "execution_count": 39,
   "outputs": [],
   "source": [
    "data_list_df_partial['Title'] = data_list_df_partial['Title'].astype(\"string\")\n",
    "data_list_df_partial['Year'] = pd.to_numeric(data_list_df_partial['Year'])\n",
    "data_list_df_partial['Rated'] = data_list_df_partial['Rated'].astype(\"string\")\n",
    "data_list_df_partial['Released'] = pd.to_datetime(data_list_df_partial['Released'], dayfirst=True, errors=\"raise\", format='%d %b %Y')\n",
    "data_list_df_partial['Runtime'] = data_list_df_partial['Runtime'].astype(\"string\")\n",
    "data_list_df_partial['Genre'] = data_list_df_partial['Genre'].astype(\"string\")\n",
    "data_list_df_partial['Director'] = data_list_df_partial['Director'].astype(\"string\")\n",
    "data_list_df_partial['Writer'] = data_list_df_partial['Writer'].astype(\"string\")\n",
    "data_list_df_partial['Actors'] = data_list_df_partial['Actors'].astype(\"string\")\n",
    "data_list_df_partial['Plot'] = data_list_df_partial['Plot'].astype(\"string\")\n",
    "data_list_df_partial['Language'] = data_list_df_partial['Language'].astype(\"string\")\n",
    "data_list_df_partial['Actors'] = data_list_df_partial['Actors'].astype(\"string\")\n",
    "data_list_df_partial['Actors'] = data_list_df_partial['Actors'].astype(\"string\")\n",
    "data_list_df_partial['Actors'] = data_list_df_partial['Actors'].astype(\"string\")\n",
    "data_list_df_partial['Actors'] = data_list_df_partial['Actors'].astype(\"string\")\n",
    "data_list_df_partial['Actors'] = data_list_df_partial['Actors'].astype(\"string\")\n",
    "data_list_df_partial['Actors'] = data_list_df_partial['Actors'].astype(\"string\")\n",
    "data_list_df_partial['Actors'] = data_list_df_partial['Actors'].astype(\"string\")\n",
    "data_list_df_partial['imdbID'] = data_list_df_partial['imdbID'].astype(\"string\")\n",
    "data_list_df_partial['imdbID'] = data_list_df_partial['imdbID'].astype(\"string\")\n",
    "data_list_df_partial['imdbID'] = data_list_df_partial['imdbID'].astype(\"string\")\n",
    "data_list_df_partial['imdbID'] = data_list_df_partial['imdbID'].astype(\"string\")\n",
    "data_list_df_partial['imdbID'] = data_list_df_partial['imdbID'].astype(\"string\")\n",
    "data_list_df_partial['imdbID'] = data_list_df_partial['imdbID'].astype(\"string\")"
   ],
   "metadata": {
    "collapsed": false
   }
  },
  {
   "cell_type": "code",
   "execution_count": 67,
   "outputs": [
    {
     "data": {
      "text/plain": "                                Title  Year  Rated     Released  Runtime  \\\n0                           Ambulance  2022      R  08 Apr 2022  136 min   \n1                   Blade Runner 2049  2017      R  06 Oct 2017  164 min   \n2                                Dune  2021  PG-13  22 Oct 2021  155 min   \n3                    Edge of Tomorrow  2014  PG-13  06 Jun 2014  113 min   \n4                             Everest  2015  PG-13  25 Sep 2015  121 min   \n5   Everything Everywhere All at Once  2022      R  08 Apr 2022  139 min   \n6                      Ford v Ferrari  2019  PG-13  15 Nov 2019  152 min   \n7                        Interstellar  2014  PG-13  07 Nov 2014  169 min   \n8                  Mad Max: Fury Road  2015      R  15 May 2015  120 min   \n9                      No Time to Die  2021  PG-13  08 Oct 2021  163 min   \n10                   Ready Player One  2018  PG-13  29 Mar 2018  140 min   \n11                 Sonic the Hedgehog  2020     PG  14 Feb 2020   99 min   \n12               Sonic the Hedgehog 2  2022     PG  08 Apr 2022  122 min   \n13                               Soul  2020     PG  29 Nov 2020  100 min   \n14         Terminator 2: Judgment Day  1991      R  03 Jul 1991  137 min   \n\n                           Genre                       Director  \\\n0           Action, Crime, Drama                    Michael Bay   \n1         Action, Drama, Mystery               Denis Villeneuve   \n2       Action, Adventure, Drama               Denis Villeneuve   \n3      Action, Adventure, Sci-Fi                     Doug Liman   \n4   Action, Adventure, Biography              Baltasar Kormákur   \n5      Action, Adventure, Comedy  Daniel Kwan, Daniel Scheinert   \n6       Action, Biography, Drama                  James Mangold   \n7       Adventure, Drama, Sci-Fi              Christopher Nolan   \n8      Action, Adventure, Sci-Fi                  George Miller   \n9    Action, Adventure, Thriller             Cary Joji Fukunaga   \n10     Action, Adventure, Sci-Fi               Steven Spielberg   \n11     Action, Adventure, Comedy                    Jeff Fowler   \n12     Action, Adventure, Comedy                    Jeff Fowler   \n13  Animation, Adventure, Comedy       Pete Docter, Kemp Powers   \n14                Action, Sci-Fi                  James Cameron   \n\n                                               Writer  \\\n0   Chris Fedak, Laurits Munch-Petersen, Lars Andr...   \n1      Hampton Fancher, Michael Green, Philip K. Dick   \n2            Jon Spaihts, Denis Villeneuve, Eric Roth   \n3   Christopher McQuarrie, Jez Butterworth, John-H...   \n4                    William Nicholson, Simon Beaufoy   \n5                       Daniel Kwan, Daniel Scheinert   \n6   Jez Butterworth, John-Henry Butterworth, Jason...   \n7                   Jonathan Nolan, Christopher Nolan   \n8     George Miller, Brendan McCarthy, Nick Lathouris   \n9        Neal Purvis, Robert Wade, Cary Joji Fukunaga   \n10                             Zak Penn, Ernest Cline   \n11                             Pat Casey, Josh Miller   \n12           Pat Casey, Josh Miller, John Whittington   \n13               Pete Docter, Mike Jones, Kemp Powers   \n14                      James Cameron, William Wisher   \n\n                                               Actors  \\\n0   Jake Gyllenhaal, Yahya Abdul-Mateen II, Eiza G...   \n1           Harrison Ford, Ryan Gosling, Ana de Armas   \n2        Timothée Chalamet, Rebecca Ferguson, Zendaya   \n3                Tom Cruise, Emily Blunt, Bill Paxton   \n4    Jason Clarke, Ang Phula Sherpa, Thomas M. Wright   \n5      Michelle Yeoh, Stephanie Hsu, Jamie Lee Curtis   \n6            Matt Damon, Christian Bale, Jon Bernthal   \n7   Matthew McConaughey, Anne Hathaway, Jessica Ch...   \n8          Tom Hardy, Charlize Theron, Nicholas Hoult   \n9              Daniel Craig, Ana de Armas, Rami Malek   \n10         Tye Sheridan, Olivia Cooke, Ben Mendelsohn   \n11            Ben Schwartz, James Marsden, Jim Carrey   \n12            James Marsden, Jim Carrey, Ben Schwartz   \n13                Jamie Foxx, Tina Fey, Graham Norton   \n14  Arnold Schwarzenegger, Linda Hamilton, Edward ...   \n\n                                                 Plot  ...  \\\n0   Two robbers steal an ambulance after their hei...  ...   \n1   Young Blade Runner K's discovery of a long-bur...  ...   \n2   A noble family becomes embroiled in a war for ...  ...   \n3   A soldier fighting aliens gets to relive the s...  ...   \n4   The story of New Zealand mountaineer Rob Hall,...  ...   \n5   A middle-aged Chinese immigrant is swept up in...  ...   \n6   American car designer Carroll Shelby and drive...  ...   \n7   A team of explorers travel through a wormhole ...  ...   \n8   In a post-apocalyptic wasteland, a woman rebel...  ...   \n9   James Bond has left active service. His peace ...  ...   \n10  When the creator of a virtual reality called t...  ...   \n11  After discovering a small, blue, fast hedgehog...  ...   \n12  When the manic Dr Robotnik returns to Earth wi...  ...   \n13  After landing the gig of a lifetime, a New Yor...  ...   \n14  A cyborg, identical to the one who failed to k...  ...   \n\n                                              Ratings Metascore imdbRating  \\\n0   [{'Source': 'Internet Movie Database', 'Value'...        55        6.1   \n1   [{'Source': 'Internet Movie Database', 'Value'...        81        8.0   \n2   [{'Source': 'Internet Movie Database', 'Value'...        74        8.0   \n3   [{'Source': 'Internet Movie Database', 'Value'...        71        7.9   \n4   [{'Source': 'Internet Movie Database', 'Value'...        64        7.1   \n5   [{'Source': 'Internet Movie Database', 'Value'...        81        7.9   \n6   [{'Source': 'Internet Movie Database', 'Value'...        81        8.1   \n7   [{'Source': 'Internet Movie Database', 'Value'...        74        8.6   \n8   [{'Source': 'Internet Movie Database', 'Value'...        90        8.1   \n9   [{'Source': 'Internet Movie Database', 'Value'...        68        7.3   \n10  [{'Source': 'Internet Movie Database', 'Value'...        64        7.4   \n11  [{'Source': 'Internet Movie Database', 'Value'...        47        6.5   \n12  [{'Source': 'Internet Movie Database', 'Value'...        47        6.5   \n13  [{'Source': 'Internet Movie Database', 'Value'...        83        8.0   \n14  [{'Source': 'Internet Movie Database', 'Value'...        75        8.6   \n\n    imdbVotes      imdbID   Type          DVD     BoxOffice Production Website  \n0      81,221   tt4998632  movie  24 May 2022   $22,781,115        N/A     N/A  \n1     599,573   tt1856101  movie  16 Jan 2018   $92,071,675        N/A     N/A  \n2     665,392   tt1160419  movie  22 Oct 2021  $108,327,830        N/A     N/A  \n3     696,962   tt1631867  movie  07 Oct 2014  $100,206,256        N/A     N/A  \n4     223,452   tt2719848  movie  19 Jan 2016   $43,482,270        N/A     N/A  \n5     428,822   tt6710474  movie  07 Jun 2022   $77,169,469        N/A     N/A  \n6     414,884   tt1950186  movie  15 Nov 2019  $117,624,357        N/A     N/A  \n7   1,898,118   tt0816692  movie  31 Mar 2015  $188,020,017        N/A     N/A  \n8   1,026,101   tt1392190  movie  01 Sep 2015  $154,109,060        N/A     N/A  \n9     415,836   tt2382320  movie  09 Nov 2021  $160,891,007        N/A     N/A  \n10    452,315   tt1677720  movie  05 Apr 2018  $137,715,350        N/A     N/A  \n11    146,408   tt3794354  movie  31 Mar 2020  $148,974,665        N/A     N/A  \n12     73,445  tt12412888  movie  24 May 2022  $190,872,904        N/A     N/A  \n13    342,758   tt2948372  movie  25 Dec 2020           N/A        N/A     N/A  \n14  1,119,363   tt0103064  movie  13 Feb 2007  $205,881,154        N/A     N/A  \n\n[15 rows x 24 columns]",
      "text/html": "<div>\n<style scoped>\n    .dataframe tbody tr th:only-of-type {\n        vertical-align: middle;\n    }\n\n    .dataframe tbody tr th {\n        vertical-align: top;\n    }\n\n    .dataframe thead th {\n        text-align: right;\n    }\n</style>\n<table border=\"1\" class=\"dataframe\">\n  <thead>\n    <tr style=\"text-align: right;\">\n      <th></th>\n      <th>Title</th>\n      <th>Year</th>\n      <th>Rated</th>\n      <th>Released</th>\n      <th>Runtime</th>\n      <th>Genre</th>\n      <th>Director</th>\n      <th>Writer</th>\n      <th>Actors</th>\n      <th>Plot</th>\n      <th>...</th>\n      <th>Ratings</th>\n      <th>Metascore</th>\n      <th>imdbRating</th>\n      <th>imdbVotes</th>\n      <th>imdbID</th>\n      <th>Type</th>\n      <th>DVD</th>\n      <th>BoxOffice</th>\n      <th>Production</th>\n      <th>Website</th>\n    </tr>\n  </thead>\n  <tbody>\n    <tr>\n      <th>0</th>\n      <td>Ambulance</td>\n      <td>2022</td>\n      <td>R</td>\n      <td>08 Apr 2022</td>\n      <td>136 min</td>\n      <td>Action, Crime, Drama</td>\n      <td>Michael Bay</td>\n      <td>Chris Fedak, Laurits Munch-Petersen, Lars Andr...</td>\n      <td>Jake Gyllenhaal, Yahya Abdul-Mateen II, Eiza G...</td>\n      <td>Two robbers steal an ambulance after their hei...</td>\n      <td>...</td>\n      <td>[{'Source': 'Internet Movie Database', 'Value'...</td>\n      <td>55</td>\n      <td>6.1</td>\n      <td>81,221</td>\n      <td>tt4998632</td>\n      <td>movie</td>\n      <td>24 May 2022</td>\n      <td>$22,781,115</td>\n      <td>N/A</td>\n      <td>N/A</td>\n    </tr>\n    <tr>\n      <th>1</th>\n      <td>Blade Runner 2049</td>\n      <td>2017</td>\n      <td>R</td>\n      <td>06 Oct 2017</td>\n      <td>164 min</td>\n      <td>Action, Drama, Mystery</td>\n      <td>Denis Villeneuve</td>\n      <td>Hampton Fancher, Michael Green, Philip K. Dick</td>\n      <td>Harrison Ford, Ryan Gosling, Ana de Armas</td>\n      <td>Young Blade Runner K's discovery of a long-bur...</td>\n      <td>...</td>\n      <td>[{'Source': 'Internet Movie Database', 'Value'...</td>\n      <td>81</td>\n      <td>8.0</td>\n      <td>599,573</td>\n      <td>tt1856101</td>\n      <td>movie</td>\n      <td>16 Jan 2018</td>\n      <td>$92,071,675</td>\n      <td>N/A</td>\n      <td>N/A</td>\n    </tr>\n    <tr>\n      <th>2</th>\n      <td>Dune</td>\n      <td>2021</td>\n      <td>PG-13</td>\n      <td>22 Oct 2021</td>\n      <td>155 min</td>\n      <td>Action, Adventure, Drama</td>\n      <td>Denis Villeneuve</td>\n      <td>Jon Spaihts, Denis Villeneuve, Eric Roth</td>\n      <td>Timothée Chalamet, Rebecca Ferguson, Zendaya</td>\n      <td>A noble family becomes embroiled in a war for ...</td>\n      <td>...</td>\n      <td>[{'Source': 'Internet Movie Database', 'Value'...</td>\n      <td>74</td>\n      <td>8.0</td>\n      <td>665,392</td>\n      <td>tt1160419</td>\n      <td>movie</td>\n      <td>22 Oct 2021</td>\n      <td>$108,327,830</td>\n      <td>N/A</td>\n      <td>N/A</td>\n    </tr>\n    <tr>\n      <th>3</th>\n      <td>Edge of Tomorrow</td>\n      <td>2014</td>\n      <td>PG-13</td>\n      <td>06 Jun 2014</td>\n      <td>113 min</td>\n      <td>Action, Adventure, Sci-Fi</td>\n      <td>Doug Liman</td>\n      <td>Christopher McQuarrie, Jez Butterworth, John-H...</td>\n      <td>Tom Cruise, Emily Blunt, Bill Paxton</td>\n      <td>A soldier fighting aliens gets to relive the s...</td>\n      <td>...</td>\n      <td>[{'Source': 'Internet Movie Database', 'Value'...</td>\n      <td>71</td>\n      <td>7.9</td>\n      <td>696,962</td>\n      <td>tt1631867</td>\n      <td>movie</td>\n      <td>07 Oct 2014</td>\n      <td>$100,206,256</td>\n      <td>N/A</td>\n      <td>N/A</td>\n    </tr>\n    <tr>\n      <th>4</th>\n      <td>Everest</td>\n      <td>2015</td>\n      <td>PG-13</td>\n      <td>25 Sep 2015</td>\n      <td>121 min</td>\n      <td>Action, Adventure, Biography</td>\n      <td>Baltasar Kormákur</td>\n      <td>William Nicholson, Simon Beaufoy</td>\n      <td>Jason Clarke, Ang Phula Sherpa, Thomas M. Wright</td>\n      <td>The story of New Zealand mountaineer Rob Hall,...</td>\n      <td>...</td>\n      <td>[{'Source': 'Internet Movie Database', 'Value'...</td>\n      <td>64</td>\n      <td>7.1</td>\n      <td>223,452</td>\n      <td>tt2719848</td>\n      <td>movie</td>\n      <td>19 Jan 2016</td>\n      <td>$43,482,270</td>\n      <td>N/A</td>\n      <td>N/A</td>\n    </tr>\n    <tr>\n      <th>5</th>\n      <td>Everything Everywhere All at Once</td>\n      <td>2022</td>\n      <td>R</td>\n      <td>08 Apr 2022</td>\n      <td>139 min</td>\n      <td>Action, Adventure, Comedy</td>\n      <td>Daniel Kwan, Daniel Scheinert</td>\n      <td>Daniel Kwan, Daniel Scheinert</td>\n      <td>Michelle Yeoh, Stephanie Hsu, Jamie Lee Curtis</td>\n      <td>A middle-aged Chinese immigrant is swept up in...</td>\n      <td>...</td>\n      <td>[{'Source': 'Internet Movie Database', 'Value'...</td>\n      <td>81</td>\n      <td>7.9</td>\n      <td>428,822</td>\n      <td>tt6710474</td>\n      <td>movie</td>\n      <td>07 Jun 2022</td>\n      <td>$77,169,469</td>\n      <td>N/A</td>\n      <td>N/A</td>\n    </tr>\n    <tr>\n      <th>6</th>\n      <td>Ford v Ferrari</td>\n      <td>2019</td>\n      <td>PG-13</td>\n      <td>15 Nov 2019</td>\n      <td>152 min</td>\n      <td>Action, Biography, Drama</td>\n      <td>James Mangold</td>\n      <td>Jez Butterworth, John-Henry Butterworth, Jason...</td>\n      <td>Matt Damon, Christian Bale, Jon Bernthal</td>\n      <td>American car designer Carroll Shelby and drive...</td>\n      <td>...</td>\n      <td>[{'Source': 'Internet Movie Database', 'Value'...</td>\n      <td>81</td>\n      <td>8.1</td>\n      <td>414,884</td>\n      <td>tt1950186</td>\n      <td>movie</td>\n      <td>15 Nov 2019</td>\n      <td>$117,624,357</td>\n      <td>N/A</td>\n      <td>N/A</td>\n    </tr>\n    <tr>\n      <th>7</th>\n      <td>Interstellar</td>\n      <td>2014</td>\n      <td>PG-13</td>\n      <td>07 Nov 2014</td>\n      <td>169 min</td>\n      <td>Adventure, Drama, Sci-Fi</td>\n      <td>Christopher Nolan</td>\n      <td>Jonathan Nolan, Christopher Nolan</td>\n      <td>Matthew McConaughey, Anne Hathaway, Jessica Ch...</td>\n      <td>A team of explorers travel through a wormhole ...</td>\n      <td>...</td>\n      <td>[{'Source': 'Internet Movie Database', 'Value'...</td>\n      <td>74</td>\n      <td>8.6</td>\n      <td>1,898,118</td>\n      <td>tt0816692</td>\n      <td>movie</td>\n      <td>31 Mar 2015</td>\n      <td>$188,020,017</td>\n      <td>N/A</td>\n      <td>N/A</td>\n    </tr>\n    <tr>\n      <th>8</th>\n      <td>Mad Max: Fury Road</td>\n      <td>2015</td>\n      <td>R</td>\n      <td>15 May 2015</td>\n      <td>120 min</td>\n      <td>Action, Adventure, Sci-Fi</td>\n      <td>George Miller</td>\n      <td>George Miller, Brendan McCarthy, Nick Lathouris</td>\n      <td>Tom Hardy, Charlize Theron, Nicholas Hoult</td>\n      <td>In a post-apocalyptic wasteland, a woman rebel...</td>\n      <td>...</td>\n      <td>[{'Source': 'Internet Movie Database', 'Value'...</td>\n      <td>90</td>\n      <td>8.1</td>\n      <td>1,026,101</td>\n      <td>tt1392190</td>\n      <td>movie</td>\n      <td>01 Sep 2015</td>\n      <td>$154,109,060</td>\n      <td>N/A</td>\n      <td>N/A</td>\n    </tr>\n    <tr>\n      <th>9</th>\n      <td>No Time to Die</td>\n      <td>2021</td>\n      <td>PG-13</td>\n      <td>08 Oct 2021</td>\n      <td>163 min</td>\n      <td>Action, Adventure, Thriller</td>\n      <td>Cary Joji Fukunaga</td>\n      <td>Neal Purvis, Robert Wade, Cary Joji Fukunaga</td>\n      <td>Daniel Craig, Ana de Armas, Rami Malek</td>\n      <td>James Bond has left active service. His peace ...</td>\n      <td>...</td>\n      <td>[{'Source': 'Internet Movie Database', 'Value'...</td>\n      <td>68</td>\n      <td>7.3</td>\n      <td>415,836</td>\n      <td>tt2382320</td>\n      <td>movie</td>\n      <td>09 Nov 2021</td>\n      <td>$160,891,007</td>\n      <td>N/A</td>\n      <td>N/A</td>\n    </tr>\n    <tr>\n      <th>10</th>\n      <td>Ready Player One</td>\n      <td>2018</td>\n      <td>PG-13</td>\n      <td>29 Mar 2018</td>\n      <td>140 min</td>\n      <td>Action, Adventure, Sci-Fi</td>\n      <td>Steven Spielberg</td>\n      <td>Zak Penn, Ernest Cline</td>\n      <td>Tye Sheridan, Olivia Cooke, Ben Mendelsohn</td>\n      <td>When the creator of a virtual reality called t...</td>\n      <td>...</td>\n      <td>[{'Source': 'Internet Movie Database', 'Value'...</td>\n      <td>64</td>\n      <td>7.4</td>\n      <td>452,315</td>\n      <td>tt1677720</td>\n      <td>movie</td>\n      <td>05 Apr 2018</td>\n      <td>$137,715,350</td>\n      <td>N/A</td>\n      <td>N/A</td>\n    </tr>\n    <tr>\n      <th>11</th>\n      <td>Sonic the Hedgehog</td>\n      <td>2020</td>\n      <td>PG</td>\n      <td>14 Feb 2020</td>\n      <td>99 min</td>\n      <td>Action, Adventure, Comedy</td>\n      <td>Jeff Fowler</td>\n      <td>Pat Casey, Josh Miller</td>\n      <td>Ben Schwartz, James Marsden, Jim Carrey</td>\n      <td>After discovering a small, blue, fast hedgehog...</td>\n      <td>...</td>\n      <td>[{'Source': 'Internet Movie Database', 'Value'...</td>\n      <td>47</td>\n      <td>6.5</td>\n      <td>146,408</td>\n      <td>tt3794354</td>\n      <td>movie</td>\n      <td>31 Mar 2020</td>\n      <td>$148,974,665</td>\n      <td>N/A</td>\n      <td>N/A</td>\n    </tr>\n    <tr>\n      <th>12</th>\n      <td>Sonic the Hedgehog 2</td>\n      <td>2022</td>\n      <td>PG</td>\n      <td>08 Apr 2022</td>\n      <td>122 min</td>\n      <td>Action, Adventure, Comedy</td>\n      <td>Jeff Fowler</td>\n      <td>Pat Casey, Josh Miller, John Whittington</td>\n      <td>James Marsden, Jim Carrey, Ben Schwartz</td>\n      <td>When the manic Dr Robotnik returns to Earth wi...</td>\n      <td>...</td>\n      <td>[{'Source': 'Internet Movie Database', 'Value'...</td>\n      <td>47</td>\n      <td>6.5</td>\n      <td>73,445</td>\n      <td>tt12412888</td>\n      <td>movie</td>\n      <td>24 May 2022</td>\n      <td>$190,872,904</td>\n      <td>N/A</td>\n      <td>N/A</td>\n    </tr>\n    <tr>\n      <th>13</th>\n      <td>Soul</td>\n      <td>2020</td>\n      <td>PG</td>\n      <td>29 Nov 2020</td>\n      <td>100 min</td>\n      <td>Animation, Adventure, Comedy</td>\n      <td>Pete Docter, Kemp Powers</td>\n      <td>Pete Docter, Mike Jones, Kemp Powers</td>\n      <td>Jamie Foxx, Tina Fey, Graham Norton</td>\n      <td>After landing the gig of a lifetime, a New Yor...</td>\n      <td>...</td>\n      <td>[{'Source': 'Internet Movie Database', 'Value'...</td>\n      <td>83</td>\n      <td>8.0</td>\n      <td>342,758</td>\n      <td>tt2948372</td>\n      <td>movie</td>\n      <td>25 Dec 2020</td>\n      <td>N/A</td>\n      <td>N/A</td>\n      <td>N/A</td>\n    </tr>\n    <tr>\n      <th>14</th>\n      <td>Terminator 2: Judgment Day</td>\n      <td>1991</td>\n      <td>R</td>\n      <td>03 Jul 1991</td>\n      <td>137 min</td>\n      <td>Action, Sci-Fi</td>\n      <td>James Cameron</td>\n      <td>James Cameron, William Wisher</td>\n      <td>Arnold Schwarzenegger, Linda Hamilton, Edward ...</td>\n      <td>A cyborg, identical to the one who failed to k...</td>\n      <td>...</td>\n      <td>[{'Source': 'Internet Movie Database', 'Value'...</td>\n      <td>75</td>\n      <td>8.6</td>\n      <td>1,119,363</td>\n      <td>tt0103064</td>\n      <td>movie</td>\n      <td>13 Feb 2007</td>\n      <td>$205,881,154</td>\n      <td>N/A</td>\n      <td>N/A</td>\n    </tr>\n  </tbody>\n</table>\n<p>15 rows × 24 columns</p>\n</div>"
     },
     "execution_count": 67,
     "metadata": {},
     "output_type": "execute_result"
    }
   ],
   "source": [
    "data_list_df_partial.head(15)"
   ],
   "metadata": {
    "collapsed": false
   }
  },
  {
   "cell_type": "code",
   "execution_count": 68,
   "outputs": [
    {
     "data": {
      "text/plain": "            Title  Year Rated     Released  Runtime           Genre  \\\ncount          22    22    22           22       22              22   \nunique         22    12     3           20       21              12   \ntop     Ambulance  2022     R  08 Apr 2022  136 min  Action, Sci-Fi   \nfreq            1     5     9            3        2               5   \n\n                               Director                           Writer  \\\ncount                                22                               22   \nunique                               18                               20   \ntop     Lana Wachowski, Lilly Wachowski  Lilly Wachowski, Lana Wachowski   \nfreq                                  3                                3   \n\n                                                   Actors  \\\ncount                                                  22   \nunique                                                 20   \ntop     Keanu Reeves, Laurence Fishburne, Carrie-Anne ...   \nfreq                                                    3   \n\n                                                     Plot  ...  \\\ncount                                                  22  ...   \nunique                                                 22  ...   \ntop     Two robbers steal an ambulance after their hei...  ...   \nfreq                                                    1  ...   \n\n                                                  Ratings Metascore  \\\ncount                                                  22        22   \nunique                                                 22        16   \ntop     [{'Source': 'Internet Movie Database', 'Value'...        81   \nfreq                                                    1         3   \n\n       imdbRating imdbVotes     imdbID   Type          DVD    BoxOffice  \\\ncount          22        22         22     22           22           22   \nunique         15        22         22      1           21           22   \ntop           8.0    81,221  tt4998632  movie  24 May 2022  $22,781,115   \nfreq            3         1          1     22            2            1   \n\n       Production Website  \ncount          22      22  \nunique          1       1  \ntop           N/A     N/A  \nfreq           22      22  \n\n[4 rows x 24 columns]",
      "text/html": "<div>\n<style scoped>\n    .dataframe tbody tr th:only-of-type {\n        vertical-align: middle;\n    }\n\n    .dataframe tbody tr th {\n        vertical-align: top;\n    }\n\n    .dataframe thead th {\n        text-align: right;\n    }\n</style>\n<table border=\"1\" class=\"dataframe\">\n  <thead>\n    <tr style=\"text-align: right;\">\n      <th></th>\n      <th>Title</th>\n      <th>Year</th>\n      <th>Rated</th>\n      <th>Released</th>\n      <th>Runtime</th>\n      <th>Genre</th>\n      <th>Director</th>\n      <th>Writer</th>\n      <th>Actors</th>\n      <th>Plot</th>\n      <th>...</th>\n      <th>Ratings</th>\n      <th>Metascore</th>\n      <th>imdbRating</th>\n      <th>imdbVotes</th>\n      <th>imdbID</th>\n      <th>Type</th>\n      <th>DVD</th>\n      <th>BoxOffice</th>\n      <th>Production</th>\n      <th>Website</th>\n    </tr>\n  </thead>\n  <tbody>\n    <tr>\n      <th>count</th>\n      <td>22</td>\n      <td>22</td>\n      <td>22</td>\n      <td>22</td>\n      <td>22</td>\n      <td>22</td>\n      <td>22</td>\n      <td>22</td>\n      <td>22</td>\n      <td>22</td>\n      <td>...</td>\n      <td>22</td>\n      <td>22</td>\n      <td>22</td>\n      <td>22</td>\n      <td>22</td>\n      <td>22</td>\n      <td>22</td>\n      <td>22</td>\n      <td>22</td>\n      <td>22</td>\n    </tr>\n    <tr>\n      <th>unique</th>\n      <td>22</td>\n      <td>12</td>\n      <td>3</td>\n      <td>20</td>\n      <td>21</td>\n      <td>12</td>\n      <td>18</td>\n      <td>20</td>\n      <td>20</td>\n      <td>22</td>\n      <td>...</td>\n      <td>22</td>\n      <td>16</td>\n      <td>15</td>\n      <td>22</td>\n      <td>22</td>\n      <td>1</td>\n      <td>21</td>\n      <td>22</td>\n      <td>1</td>\n      <td>1</td>\n    </tr>\n    <tr>\n      <th>top</th>\n      <td>Ambulance</td>\n      <td>2022</td>\n      <td>R</td>\n      <td>08 Apr 2022</td>\n      <td>136 min</td>\n      <td>Action, Sci-Fi</td>\n      <td>Lana Wachowski, Lilly Wachowski</td>\n      <td>Lilly Wachowski, Lana Wachowski</td>\n      <td>Keanu Reeves, Laurence Fishburne, Carrie-Anne ...</td>\n      <td>Two robbers steal an ambulance after their hei...</td>\n      <td>...</td>\n      <td>[{'Source': 'Internet Movie Database', 'Value'...</td>\n      <td>81</td>\n      <td>8.0</td>\n      <td>81,221</td>\n      <td>tt4998632</td>\n      <td>movie</td>\n      <td>24 May 2022</td>\n      <td>$22,781,115</td>\n      <td>N/A</td>\n      <td>N/A</td>\n    </tr>\n    <tr>\n      <th>freq</th>\n      <td>1</td>\n      <td>5</td>\n      <td>9</td>\n      <td>3</td>\n      <td>2</td>\n      <td>5</td>\n      <td>3</td>\n      <td>3</td>\n      <td>3</td>\n      <td>1</td>\n      <td>...</td>\n      <td>1</td>\n      <td>3</td>\n      <td>3</td>\n      <td>1</td>\n      <td>1</td>\n      <td>22</td>\n      <td>2</td>\n      <td>1</td>\n      <td>22</td>\n      <td>22</td>\n    </tr>\n  </tbody>\n</table>\n<p>4 rows × 24 columns</p>\n</div>"
     },
     "execution_count": 68,
     "metadata": {},
     "output_type": "execute_result"
    }
   ],
   "source": [
    "data_list_df_partial.describe()"
   ],
   "metadata": {
    "collapsed": false
   }
  },
  {
   "cell_type": "code",
   "execution_count": 69,
   "outputs": [
    {
     "name": "stdout",
     "output_type": "stream",
     "text": [
      "<class 'pandas.core.frame.DataFrame'>\n",
      "RangeIndex: 22 entries, 0 to 21\n",
      "Data columns (total 24 columns):\n",
      " #   Column      Non-Null Count  Dtype \n",
      "---  ------      --------------  ----- \n",
      " 0   Title       22 non-null     object\n",
      " 1   Year        22 non-null     object\n",
      " 2   Rated       22 non-null     object\n",
      " 3   Released    22 non-null     object\n",
      " 4   Runtime     22 non-null     object\n",
      " 5   Genre       22 non-null     object\n",
      " 6   Director    22 non-null     object\n",
      " 7   Writer      22 non-null     object\n",
      " 8   Actors      22 non-null     object\n",
      " 9   Plot        22 non-null     object\n",
      " 10  Language    22 non-null     object\n",
      " 11  Country     22 non-null     object\n",
      " 12  Awards      22 non-null     object\n",
      " 13  Poster      22 non-null     object\n",
      " 14  Ratings     22 non-null     object\n",
      " 15  Metascore   22 non-null     object\n",
      " 16  imdbRating  22 non-null     object\n",
      " 17  imdbVotes   22 non-null     object\n",
      " 18  imdbID      22 non-null     object\n",
      " 19  Type        22 non-null     object\n",
      " 20  DVD         22 non-null     object\n",
      " 21  BoxOffice   22 non-null     object\n",
      " 22  Production  22 non-null     object\n",
      " 23  Website     22 non-null     object\n",
      "dtypes: object(24)\n",
      "memory usage: 4.2+ KB\n"
     ]
    }
   ],
   "source": [
    "data_list_df_partial.info()"
   ],
   "metadata": {
    "collapsed": false
   }
  },
  {
   "cell_type": "code",
   "execution_count": 70,
   "outputs": [],
   "source": [
    "data_list_df_partial.to_csv(r'C:\\My\\Workspace\\Python_Projects\\Movies_Data\\output_files\\\\movie_list_detail.csv',sep='|', index=False)"
   ],
   "metadata": {
    "collapsed": false
   }
  },
  {
   "cell_type": "code",
   "execution_count": null,
   "outputs": [],
   "source": [],
   "metadata": {
    "collapsed": false
   }
  }
 ],
 "metadata": {
  "kernelspec": {
   "display_name": "Python 3",
   "language": "python",
   "name": "python3"
  },
  "language_info": {
   "codemirror_mode": {
    "name": "ipython",
    "version": 2
   },
   "file_extension": ".py",
   "mimetype": "text/x-python",
   "name": "python",
   "nbconvert_exporter": "python",
   "pygments_lexer": "ipython2",
   "version": "2.7.6"
  }
 },
 "nbformat": 4,
 "nbformat_minor": 0
}
