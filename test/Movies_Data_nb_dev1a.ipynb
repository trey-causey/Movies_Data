{
 "cells": [
  {
   "cell_type": "code",
   "execution_count": 1,
   "metadata": {
    "collapsed": true
   },
   "outputs": [],
   "source": [
    "import omdb\n",
    "import pandas as pd\n",
    "from omdb import OMDBClient\n",
    "client = OMDBClient(apikey='e55a0e19')"
   ]
  },
  {
   "cell_type": "code",
   "execution_count": 2,
   "outputs": [
    {
     "data": {
      "text/plain": "                     Title  Year_Released\n0  The Secret Life of Pets           2016\n1         Edge Of Tomorrow           2014\n2       Mad Max: Fury Road           2015\n3        Top Gun: Maverick           2022\n4         Ready Player One           2018",
      "text/html": "<div>\n<style scoped>\n    .dataframe tbody tr th:only-of-type {\n        vertical-align: middle;\n    }\n\n    .dataframe tbody tr th {\n        vertical-align: top;\n    }\n\n    .dataframe thead th {\n        text-align: right;\n    }\n</style>\n<table border=\"1\" class=\"dataframe\">\n  <thead>\n    <tr style=\"text-align: right;\">\n      <th></th>\n      <th>Title</th>\n      <th>Year_Released</th>\n    </tr>\n  </thead>\n  <tbody>\n    <tr>\n      <th>0</th>\n      <td>The Secret Life of Pets</td>\n      <td>2016</td>\n    </tr>\n    <tr>\n      <th>1</th>\n      <td>Edge Of Tomorrow</td>\n      <td>2014</td>\n    </tr>\n    <tr>\n      <th>2</th>\n      <td>Mad Max: Fury Road</td>\n      <td>2015</td>\n    </tr>\n    <tr>\n      <th>3</th>\n      <td>Top Gun: Maverick</td>\n      <td>2022</td>\n    </tr>\n    <tr>\n      <th>4</th>\n      <td>Ready Player One</td>\n      <td>2018</td>\n    </tr>\n  </tbody>\n</table>\n</div>"
     },
     "execution_count": 2,
     "metadata": {},
     "output_type": "execute_result"
    }
   ],
   "source": [
    "csv_data = pd.read_csv('C:\\My\\Workspace\\Python_Projects\\Movies_Data\\input_files\\\\film_list.csv')\n",
    "csv_data.head()"
   ],
   "metadata": {
    "collapsed": false
   }
  },
  {
   "cell_type": "code",
   "execution_count": 3,
   "outputs": [],
   "source": [
    "def get_film_object(row):\n",
    "    film_title = row['Title']\n",
    "    film_year_released = str(row['Year_Released'])\n",
    "    film_object = client.search(film_title, year=film_year_released)\n",
    "    return film_object[0]\n",
    "\n",
    "csv_data['film_object'] = csv_data.apply(get_film_object, axis=1)\n",
    "film_data = csv_data['film_object'].tolist()"
   ],
   "metadata": {
    "collapsed": false
   }
  },
  {
   "cell_type": "code",
   "execution_count": 4,
   "outputs": [
    {
     "name": "stdout",
     "output_type": "stream",
     "text": [
      "stip\n"
     ]
    }
   ],
   "source": [
    "full_df = pd.DataFrame(film_data)\n",
    "full_df.reset_index()\n",
    "print('stip')"
   ],
   "metadata": {
    "collapsed": false
   }
  },
  {
   "cell_type": "code",
   "execution_count": 5,
   "outputs": [
    {
     "data": {
      "text/plain": "                                title  year     imdb_id   type  \\\n0             The Secret Life of Pets  2016   tt2709768  movie   \n1                    Edge of Tomorrow  2014   tt1631867  movie   \n2                  Mad Max: Fury Road  2015   tt1392190  movie   \n3                   Top Gun: Maverick  2022   tt1745960  movie   \n4                    Ready Player One  2018   tt1677720  movie   \n5            The Matrix Resurrections  2021  tt10838180  movie   \n6                      Ford v Ferrari  2019   tt1950186  movie   \n7                                Dune  2021   tt1160419  movie   \n8                   Blade Runner 2049  2017   tt1856101  movie   \n9                        Interstellar  2014   tt0816692  movie   \n10                         The Batman  2022   tt1877830  movie   \n11  Everything Everywhere All at Once  2022   tt6710474  movie   \n12                          Ambulance  2022   tt4998632  movie   \n13                         The Matrix  1999   tt0133093  movie   \n14                     No Time to Die  2021   tt2382320  movie   \n\n                                               poster  \n0   https://m.media-amazon.com/images/M/MV5BMjIzMz...  \n1   https://m.media-amazon.com/images/M/MV5BMTc5OT...  \n2   https://m.media-amazon.com/images/M/MV5BN2EwM2...  \n3   https://m.media-amazon.com/images/M/MV5BZWYzOG...  \n4   https://m.media-amazon.com/images/M/MV5BY2JiYT...  \n5   https://m.media-amazon.com/images/M/MV5BMGJkND...  \n6   https://m.media-amazon.com/images/M/MV5BM2UwMD...  \n7   https://m.media-amazon.com/images/M/MV5BN2FjNm...  \n8   https://m.media-amazon.com/images/M/MV5BNzA1Nj...  \n9   https://m.media-amazon.com/images/M/MV5BZjdkOT...  \n10  https://m.media-amazon.com/images/M/MV5BMDdmMT...  \n11  https://m.media-amazon.com/images/M/MV5BYTdiOT...  \n12  https://m.media-amazon.com/images/M/MV5BYjUyN2...  \n13  https://m.media-amazon.com/images/M/MV5BNzQzOT...  \n14  https://m.media-amazon.com/images/M/MV5BYWQ2Nz...  ",
      "text/html": "<div>\n<style scoped>\n    .dataframe tbody tr th:only-of-type {\n        vertical-align: middle;\n    }\n\n    .dataframe tbody tr th {\n        vertical-align: top;\n    }\n\n    .dataframe thead th {\n        text-align: right;\n    }\n</style>\n<table border=\"1\" class=\"dataframe\">\n  <thead>\n    <tr style=\"text-align: right;\">\n      <th></th>\n      <th>title</th>\n      <th>year</th>\n      <th>imdb_id</th>\n      <th>type</th>\n      <th>poster</th>\n    </tr>\n  </thead>\n  <tbody>\n    <tr>\n      <th>0</th>\n      <td>The Secret Life of Pets</td>\n      <td>2016</td>\n      <td>tt2709768</td>\n      <td>movie</td>\n      <td>https://m.media-amazon.com/images/M/MV5BMjIzMz...</td>\n    </tr>\n    <tr>\n      <th>1</th>\n      <td>Edge of Tomorrow</td>\n      <td>2014</td>\n      <td>tt1631867</td>\n      <td>movie</td>\n      <td>https://m.media-amazon.com/images/M/MV5BMTc5OT...</td>\n    </tr>\n    <tr>\n      <th>2</th>\n      <td>Mad Max: Fury Road</td>\n      <td>2015</td>\n      <td>tt1392190</td>\n      <td>movie</td>\n      <td>https://m.media-amazon.com/images/M/MV5BN2EwM2...</td>\n    </tr>\n    <tr>\n      <th>3</th>\n      <td>Top Gun: Maverick</td>\n      <td>2022</td>\n      <td>tt1745960</td>\n      <td>movie</td>\n      <td>https://m.media-amazon.com/images/M/MV5BZWYzOG...</td>\n    </tr>\n    <tr>\n      <th>4</th>\n      <td>Ready Player One</td>\n      <td>2018</td>\n      <td>tt1677720</td>\n      <td>movie</td>\n      <td>https://m.media-amazon.com/images/M/MV5BY2JiYT...</td>\n    </tr>\n    <tr>\n      <th>5</th>\n      <td>The Matrix Resurrections</td>\n      <td>2021</td>\n      <td>tt10838180</td>\n      <td>movie</td>\n      <td>https://m.media-amazon.com/images/M/MV5BMGJkND...</td>\n    </tr>\n    <tr>\n      <th>6</th>\n      <td>Ford v Ferrari</td>\n      <td>2019</td>\n      <td>tt1950186</td>\n      <td>movie</td>\n      <td>https://m.media-amazon.com/images/M/MV5BM2UwMD...</td>\n    </tr>\n    <tr>\n      <th>7</th>\n      <td>Dune</td>\n      <td>2021</td>\n      <td>tt1160419</td>\n      <td>movie</td>\n      <td>https://m.media-amazon.com/images/M/MV5BN2FjNm...</td>\n    </tr>\n    <tr>\n      <th>8</th>\n      <td>Blade Runner 2049</td>\n      <td>2017</td>\n      <td>tt1856101</td>\n      <td>movie</td>\n      <td>https://m.media-amazon.com/images/M/MV5BNzA1Nj...</td>\n    </tr>\n    <tr>\n      <th>9</th>\n      <td>Interstellar</td>\n      <td>2014</td>\n      <td>tt0816692</td>\n      <td>movie</td>\n      <td>https://m.media-amazon.com/images/M/MV5BZjdkOT...</td>\n    </tr>\n    <tr>\n      <th>10</th>\n      <td>The Batman</td>\n      <td>2022</td>\n      <td>tt1877830</td>\n      <td>movie</td>\n      <td>https://m.media-amazon.com/images/M/MV5BMDdmMT...</td>\n    </tr>\n    <tr>\n      <th>11</th>\n      <td>Everything Everywhere All at Once</td>\n      <td>2022</td>\n      <td>tt6710474</td>\n      <td>movie</td>\n      <td>https://m.media-amazon.com/images/M/MV5BYTdiOT...</td>\n    </tr>\n    <tr>\n      <th>12</th>\n      <td>Ambulance</td>\n      <td>2022</td>\n      <td>tt4998632</td>\n      <td>movie</td>\n      <td>https://m.media-amazon.com/images/M/MV5BYjUyN2...</td>\n    </tr>\n    <tr>\n      <th>13</th>\n      <td>The Matrix</td>\n      <td>1999</td>\n      <td>tt0133093</td>\n      <td>movie</td>\n      <td>https://m.media-amazon.com/images/M/MV5BNzQzOT...</td>\n    </tr>\n    <tr>\n      <th>14</th>\n      <td>No Time to Die</td>\n      <td>2021</td>\n      <td>tt2382320</td>\n      <td>movie</td>\n      <td>https://m.media-amazon.com/images/M/MV5BYWQ2Nz...</td>\n    </tr>\n  </tbody>\n</table>\n</div>"
     },
     "execution_count": 5,
     "metadata": {},
     "output_type": "execute_result"
    }
   ],
   "source": [
    "full_df.head(15)\n",
    "# full_df.describe()"
   ],
   "metadata": {
    "collapsed": false
   }
  },
  {
   "cell_type": "code",
   "execution_count": 43,
   "outputs": [],
   "source": [
    "full_df.to_csv(r'C:\\My\\Workspace\\Python_Projects\\Movies_Data\\output_files\\\\movie_list.csv', index=False)"
   ],
   "metadata": {
    "collapsed": false
   }
  },
  {
   "cell_type": "code",
   "execution_count": 6,
   "outputs": [],
   "source": [
    "def extract_column_to_list(df, column_name):\n",
    "    return df[column_name].tolist()\n",
    "\n",
    "# usage\n",
    "imdb_id_list = extract_column_to_list(full_df, 'imdb_id')"
   ],
   "metadata": {
    "collapsed": false
   }
  },
  {
   "cell_type": "code",
   "execution_count": 7,
   "outputs": [
    {
     "name": "stdout",
     "output_type": "stream",
     "text": [
      "['https://www.omdbapi.com/?i=tt2709768&apikey=e55a0e19', 'https://www.omdbapi.com/?i=tt1631867&apikey=e55a0e19', 'https://www.omdbapi.com/?i=tt1392190&apikey=e55a0e19', 'https://www.omdbapi.com/?i=tt1745960&apikey=e55a0e19', 'https://www.omdbapi.com/?i=tt1677720&apikey=e55a0e19', 'https://www.omdbapi.com/?i=tt10838180&apikey=e55a0e19', 'https://www.omdbapi.com/?i=tt1950186&apikey=e55a0e19', 'https://www.omdbapi.com/?i=tt1160419&apikey=e55a0e19', 'https://www.omdbapi.com/?i=tt1856101&apikey=e55a0e19', 'https://www.omdbapi.com/?i=tt0816692&apikey=e55a0e19', 'https://www.omdbapi.com/?i=tt1877830&apikey=e55a0e19', 'https://www.omdbapi.com/?i=tt6710474&apikey=e55a0e19', 'https://www.omdbapi.com/?i=tt4998632&apikey=e55a0e19', 'https://www.omdbapi.com/?i=tt0133093&apikey=e55a0e19', 'https://www.omdbapi.com/?i=tt2382320&apikey=e55a0e19']\n"
     ]
    }
   ],
   "source": [
    "# https://www.omdbapi.com/?i=tt2382320&apikey=e55a0e19\n",
    "url_list = []\n",
    "import urllib.parse\n",
    "for imdbId in imdb_id_list:\n",
    "    url = 'https://www.omdbapi.com/?'\n",
    "    params = {'i': imdbId, 'apikey': 'e55a0e19'}\n",
    "    temp_url = str(url + urllib.parse.urlencode(params))\n",
    "    url_list.append(temp_url)\n",
    "print(url_list)"
   ],
   "metadata": {
    "collapsed": false
   }
  },
  {
   "cell_type": "code",
   "execution_count": 8,
   "outputs": [
    {
     "name": "stdout",
     "output_type": "stream",
     "text": [
      "stop\n"
     ]
    }
   ],
   "source": [
    "import requests\n",
    "import json\n",
    "data_list = []\n",
    "for api_url in url_list:\n",
    "    resp = requests.get(api_url)\n",
    "    resp.raise_for_status()\n",
    "    data = resp.json()\n",
    "    data_list.append(data)\n",
    "\n",
    "print(\"stop\")"
   ],
   "metadata": {
    "collapsed": false
   }
  },
  {
   "cell_type": "code",
   "execution_count": 9,
   "outputs": [],
   "source": [
    "data_list_df = pd.DataFrame(data_list)"
   ],
   "metadata": {
    "collapsed": false
   }
  },
  {
   "cell_type": "code",
   "execution_count": 32,
   "outputs": [],
   "source": [
    "# column_list=[\"Title\",\"Year\",\"Rated\",\"Released\",\"Runtime\",\"Genre\",\"Director\",\"Writer\",\"Actors\",\"Plot\",\"Language\",\"Country\",\"Awards\",\"Poster\",\"Ratings\",\"Metascore\",\"imdbRating\",\"imdbVotes\",\"imdbID\",\"Type\",\"DVD\",\"BoxOffice\",\"Production\",\"Website\",\"Response\"]"
   ],
   "metadata": {
    "collapsed": false
   }
  },
  {
   "cell_type": "code",
   "execution_count": 278,
   "outputs": [],
   "source": [
    "column_list=[\"Title\",\"Year\",\"Rated\",\"Released\",\"Runtime\",\"Genre\",\"Director\",\"Writer\",\"Actors\",\"imdbID\"]\n",
    "data_list_df_partial = pd.DataFrame(data_list_df, columns=column_list)"
   ],
   "metadata": {
    "collapsed": false
   }
  },
  {
   "cell_type": "code",
   "execution_count": 279,
   "outputs": [],
   "source": [
    "data_list_df_partial['Title'] = data_list_df_partial['Title'].astype(\"string\")\n",
    "data_list_df_partial['Year'] = pd.to_numeric(data_list_df_partial['Year'])\n",
    "data_list_df_partial['Rated'] = data_list_df_partial['Rated'].astype(\"string\")\n",
    "data_list_df_partial['Released'] = pd.to_datetime(data_list_df_partial['Released'], dayfirst=True, errors=\"raise\", format='%d %b %Y')\n",
    "data_list_df_partial['Runtime'] = data_list_df_partial['Runtime'].astype(\"string\")\n",
    "data_list_df_partial['Genre'] = data_list_df_partial['Genre'].astype(\"string\")\n",
    "data_list_df_partial['Director'] = data_list_df_partial['Director'].astype(\"string\")\n",
    "data_list_df_partial['Writer'] = data_list_df_partial['Writer'].astype(\"string\")\n",
    "data_list_df_partial['Actors'] = data_list_df_partial['Actors'].astype(\"string\")\n",
    "data_list_df_partial['imdbID'] = data_list_df_partial['imdbID'].astype(\"string\")"
   ],
   "metadata": {
    "collapsed": false
   }
  },
  {
   "cell_type": "code",
   "execution_count": 280,
   "outputs": [
    {
     "data": {
      "text/plain": "                                Title  Year  Rated   Released  Runtime  \\\n0             The Secret Life of Pets  2016     PG 2016-07-08   87 min   \n1                    Edge of Tomorrow  2014  PG-13 2014-06-06  113 min   \n2                  Mad Max: Fury Road  2015      R 2015-05-15  120 min   \n3                   Top Gun: Maverick  2022  PG-13 2022-05-27  130 min   \n4                    Ready Player One  2018  PG-13 2018-03-29  140 min   \n5            The Matrix Resurrections  2021      R 2021-12-22  148 min   \n6                      Ford v Ferrari  2019  PG-13 2019-11-15  152 min   \n7                                Dune  2021  PG-13 2021-10-22  155 min   \n8                   Blade Runner 2049  2017      R 2017-10-06  164 min   \n9                        Interstellar  2014  PG-13 2014-11-07  169 min   \n10                         The Batman  2022  PG-13 2022-03-04  176 min   \n11  Everything Everywhere All at Once  2022      R 2022-04-08  139 min   \n12                          Ambulance  2022      R 2022-04-08  136 min   \n13                         The Matrix  1999      R 1999-03-31  136 min   \n14                     No Time to Die  2021  PG-13 2021-10-08  163 min   \n\n                           Genre                         Director  \\\n0   Animation, Adventure, Comedy                     Chris Renaud   \n1      Action, Adventure, Sci-Fi                       Doug Liman   \n2      Action, Adventure, Sci-Fi                    George Miller   \n3                  Action, Drama                  Joseph Kosinski   \n4      Action, Adventure, Sci-Fi                 Steven Spielberg   \n5                 Action, Sci-Fi                   Lana Wachowski   \n6       Action, Biography, Drama                    James Mangold   \n7       Action, Adventure, Drama                 Denis Villeneuve   \n8         Action, Drama, Mystery                 Denis Villeneuve   \n9       Adventure, Drama, Sci-Fi                Christopher Nolan   \n10          Action, Crime, Drama                      Matt Reeves   \n11     Action, Adventure, Comedy    Daniel Kwan, Daniel Scheinert   \n12          Action, Crime, Drama                      Michael Bay   \n13                Action, Sci-Fi  Lana Wachowski, Lilly Wachowski   \n14   Action, Adventure, Thriller               Cary Joji Fukunaga   \n\n                                               Writer  \\\n0                 Cinco Paul, Ken Daurio, Brian Lynch   \n1   Christopher McQuarrie, Jez Butterworth, John-H...   \n2     George Miller, Brendan McCarthy, Nick Lathouris   \n3                Jim Cash, Jack Epps Jr., Peter Craig   \n4                              Zak Penn, Ernest Cline   \n5    Lana Wachowski, David Mitchell, Aleksandar Hemon   \n6   Jez Butterworth, John-Henry Butterworth, Jason...   \n7            Jon Spaihts, Denis Villeneuve, Eric Roth   \n8      Hampton Fancher, Michael Green, Philip K. Dick   \n9                   Jonathan Nolan, Christopher Nolan   \n10                 Matt Reeves, Peter Craig, Bob Kane   \n11                      Daniel Kwan, Daniel Scheinert   \n12  Chris Fedak, Laurits Munch-Petersen, Lars Andr...   \n13                    Lilly Wachowski, Lana Wachowski   \n14       Neal Purvis, Robert Wade, Cary Joji Fukunaga   \n\n                                               Actors      imdbID  \n0            Louis C.K., Eric Stonestreet, Kevin Hart   tt2709768  \n1                Tom Cruise, Emily Blunt, Bill Paxton   tt1631867  \n2          Tom Hardy, Charlize Theron, Nicholas Hoult   tt1392190  \n3         Tom Cruise, Jennifer Connelly, Miles Teller   tt1745960  \n4          Tye Sheridan, Olivia Cooke, Ben Mendelsohn   tt1677720  \n5   Keanu Reeves, Carrie-Anne Moss, Yahya Abdul-Ma...  tt10838180  \n6            Matt Damon, Christian Bale, Jon Bernthal   tt1950186  \n7        Timothée Chalamet, Rebecca Ferguson, Zendaya   tt1160419  \n8           Harrison Ford, Ryan Gosling, Ana de Armas   tt1856101  \n9   Matthew McConaughey, Anne Hathaway, Jessica Ch...   tt0816692  \n10      Robert Pattinson, Zoë Kravitz, Jeffrey Wright   tt1877830  \n11     Michelle Yeoh, Stephanie Hsu, Jamie Lee Curtis   tt6710474  \n12  Jake Gyllenhaal, Yahya Abdul-Mateen II, Eiza G...   tt4998632  \n13  Keanu Reeves, Laurence Fishburne, Carrie-Anne ...   tt0133093  \n14             Daniel Craig, Ana de Armas, Rami Malek   tt2382320  ",
      "text/html": "<div>\n<style scoped>\n    .dataframe tbody tr th:only-of-type {\n        vertical-align: middle;\n    }\n\n    .dataframe tbody tr th {\n        vertical-align: top;\n    }\n\n    .dataframe thead th {\n        text-align: right;\n    }\n</style>\n<table border=\"1\" class=\"dataframe\">\n  <thead>\n    <tr style=\"text-align: right;\">\n      <th></th>\n      <th>Title</th>\n      <th>Year</th>\n      <th>Rated</th>\n      <th>Released</th>\n      <th>Runtime</th>\n      <th>Genre</th>\n      <th>Director</th>\n      <th>Writer</th>\n      <th>Actors</th>\n      <th>imdbID</th>\n    </tr>\n  </thead>\n  <tbody>\n    <tr>\n      <th>0</th>\n      <td>The Secret Life of Pets</td>\n      <td>2016</td>\n      <td>PG</td>\n      <td>2016-07-08</td>\n      <td>87 min</td>\n      <td>Animation, Adventure, Comedy</td>\n      <td>Chris Renaud</td>\n      <td>Cinco Paul, Ken Daurio, Brian Lynch</td>\n      <td>Louis C.K., Eric Stonestreet, Kevin Hart</td>\n      <td>tt2709768</td>\n    </tr>\n    <tr>\n      <th>1</th>\n      <td>Edge of Tomorrow</td>\n      <td>2014</td>\n      <td>PG-13</td>\n      <td>2014-06-06</td>\n      <td>113 min</td>\n      <td>Action, Adventure, Sci-Fi</td>\n      <td>Doug Liman</td>\n      <td>Christopher McQuarrie, Jez Butterworth, John-H...</td>\n      <td>Tom Cruise, Emily Blunt, Bill Paxton</td>\n      <td>tt1631867</td>\n    </tr>\n    <tr>\n      <th>2</th>\n      <td>Mad Max: Fury Road</td>\n      <td>2015</td>\n      <td>R</td>\n      <td>2015-05-15</td>\n      <td>120 min</td>\n      <td>Action, Adventure, Sci-Fi</td>\n      <td>George Miller</td>\n      <td>George Miller, Brendan McCarthy, Nick Lathouris</td>\n      <td>Tom Hardy, Charlize Theron, Nicholas Hoult</td>\n      <td>tt1392190</td>\n    </tr>\n    <tr>\n      <th>3</th>\n      <td>Top Gun: Maverick</td>\n      <td>2022</td>\n      <td>PG-13</td>\n      <td>2022-05-27</td>\n      <td>130 min</td>\n      <td>Action, Drama</td>\n      <td>Joseph Kosinski</td>\n      <td>Jim Cash, Jack Epps Jr., Peter Craig</td>\n      <td>Tom Cruise, Jennifer Connelly, Miles Teller</td>\n      <td>tt1745960</td>\n    </tr>\n    <tr>\n      <th>4</th>\n      <td>Ready Player One</td>\n      <td>2018</td>\n      <td>PG-13</td>\n      <td>2018-03-29</td>\n      <td>140 min</td>\n      <td>Action, Adventure, Sci-Fi</td>\n      <td>Steven Spielberg</td>\n      <td>Zak Penn, Ernest Cline</td>\n      <td>Tye Sheridan, Olivia Cooke, Ben Mendelsohn</td>\n      <td>tt1677720</td>\n    </tr>\n    <tr>\n      <th>5</th>\n      <td>The Matrix Resurrections</td>\n      <td>2021</td>\n      <td>R</td>\n      <td>2021-12-22</td>\n      <td>148 min</td>\n      <td>Action, Sci-Fi</td>\n      <td>Lana Wachowski</td>\n      <td>Lana Wachowski, David Mitchell, Aleksandar Hemon</td>\n      <td>Keanu Reeves, Carrie-Anne Moss, Yahya Abdul-Ma...</td>\n      <td>tt10838180</td>\n    </tr>\n    <tr>\n      <th>6</th>\n      <td>Ford v Ferrari</td>\n      <td>2019</td>\n      <td>PG-13</td>\n      <td>2019-11-15</td>\n      <td>152 min</td>\n      <td>Action, Biography, Drama</td>\n      <td>James Mangold</td>\n      <td>Jez Butterworth, John-Henry Butterworth, Jason...</td>\n      <td>Matt Damon, Christian Bale, Jon Bernthal</td>\n      <td>tt1950186</td>\n    </tr>\n    <tr>\n      <th>7</th>\n      <td>Dune</td>\n      <td>2021</td>\n      <td>PG-13</td>\n      <td>2021-10-22</td>\n      <td>155 min</td>\n      <td>Action, Adventure, Drama</td>\n      <td>Denis Villeneuve</td>\n      <td>Jon Spaihts, Denis Villeneuve, Eric Roth</td>\n      <td>Timothée Chalamet, Rebecca Ferguson, Zendaya</td>\n      <td>tt1160419</td>\n    </tr>\n    <tr>\n      <th>8</th>\n      <td>Blade Runner 2049</td>\n      <td>2017</td>\n      <td>R</td>\n      <td>2017-10-06</td>\n      <td>164 min</td>\n      <td>Action, Drama, Mystery</td>\n      <td>Denis Villeneuve</td>\n      <td>Hampton Fancher, Michael Green, Philip K. Dick</td>\n      <td>Harrison Ford, Ryan Gosling, Ana de Armas</td>\n      <td>tt1856101</td>\n    </tr>\n    <tr>\n      <th>9</th>\n      <td>Interstellar</td>\n      <td>2014</td>\n      <td>PG-13</td>\n      <td>2014-11-07</td>\n      <td>169 min</td>\n      <td>Adventure, Drama, Sci-Fi</td>\n      <td>Christopher Nolan</td>\n      <td>Jonathan Nolan, Christopher Nolan</td>\n      <td>Matthew McConaughey, Anne Hathaway, Jessica Ch...</td>\n      <td>tt0816692</td>\n    </tr>\n    <tr>\n      <th>10</th>\n      <td>The Batman</td>\n      <td>2022</td>\n      <td>PG-13</td>\n      <td>2022-03-04</td>\n      <td>176 min</td>\n      <td>Action, Crime, Drama</td>\n      <td>Matt Reeves</td>\n      <td>Matt Reeves, Peter Craig, Bob Kane</td>\n      <td>Robert Pattinson, Zoë Kravitz, Jeffrey Wright</td>\n      <td>tt1877830</td>\n    </tr>\n    <tr>\n      <th>11</th>\n      <td>Everything Everywhere All at Once</td>\n      <td>2022</td>\n      <td>R</td>\n      <td>2022-04-08</td>\n      <td>139 min</td>\n      <td>Action, Adventure, Comedy</td>\n      <td>Daniel Kwan, Daniel Scheinert</td>\n      <td>Daniel Kwan, Daniel Scheinert</td>\n      <td>Michelle Yeoh, Stephanie Hsu, Jamie Lee Curtis</td>\n      <td>tt6710474</td>\n    </tr>\n    <tr>\n      <th>12</th>\n      <td>Ambulance</td>\n      <td>2022</td>\n      <td>R</td>\n      <td>2022-04-08</td>\n      <td>136 min</td>\n      <td>Action, Crime, Drama</td>\n      <td>Michael Bay</td>\n      <td>Chris Fedak, Laurits Munch-Petersen, Lars Andr...</td>\n      <td>Jake Gyllenhaal, Yahya Abdul-Mateen II, Eiza G...</td>\n      <td>tt4998632</td>\n    </tr>\n    <tr>\n      <th>13</th>\n      <td>The Matrix</td>\n      <td>1999</td>\n      <td>R</td>\n      <td>1999-03-31</td>\n      <td>136 min</td>\n      <td>Action, Sci-Fi</td>\n      <td>Lana Wachowski, Lilly Wachowski</td>\n      <td>Lilly Wachowski, Lana Wachowski</td>\n      <td>Keanu Reeves, Laurence Fishburne, Carrie-Anne ...</td>\n      <td>tt0133093</td>\n    </tr>\n    <tr>\n      <th>14</th>\n      <td>No Time to Die</td>\n      <td>2021</td>\n      <td>PG-13</td>\n      <td>2021-10-08</td>\n      <td>163 min</td>\n      <td>Action, Adventure, Thriller</td>\n      <td>Cary Joji Fukunaga</td>\n      <td>Neal Purvis, Robert Wade, Cary Joji Fukunaga</td>\n      <td>Daniel Craig, Ana de Armas, Rami Malek</td>\n      <td>tt2382320</td>\n    </tr>\n  </tbody>\n</table>\n</div>"
     },
     "execution_count": 280,
     "metadata": {},
     "output_type": "execute_result"
    }
   ],
   "source": [
    "data_list_df_partial.head(15)"
   ],
   "metadata": {
    "collapsed": false
   }
  },
  {
   "cell_type": "code",
   "execution_count": 281,
   "outputs": [
    {
     "data": {
      "text/plain": "              Year\ncount    15.000000\nmean   2017.533333\nstd       5.950590\nmin    1999.000000\n25%    2015.500000\n50%    2019.000000\n75%    2021.500000\nmax    2022.000000",
      "text/html": "<div>\n<style scoped>\n    .dataframe tbody tr th:only-of-type {\n        vertical-align: middle;\n    }\n\n    .dataframe tbody tr th {\n        vertical-align: top;\n    }\n\n    .dataframe thead th {\n        text-align: right;\n    }\n</style>\n<table border=\"1\" class=\"dataframe\">\n  <thead>\n    <tr style=\"text-align: right;\">\n      <th></th>\n      <th>Year</th>\n    </tr>\n  </thead>\n  <tbody>\n    <tr>\n      <th>count</th>\n      <td>15.000000</td>\n    </tr>\n    <tr>\n      <th>mean</th>\n      <td>2017.533333</td>\n    </tr>\n    <tr>\n      <th>std</th>\n      <td>5.950590</td>\n    </tr>\n    <tr>\n      <th>min</th>\n      <td>1999.000000</td>\n    </tr>\n    <tr>\n      <th>25%</th>\n      <td>2015.500000</td>\n    </tr>\n    <tr>\n      <th>50%</th>\n      <td>2019.000000</td>\n    </tr>\n    <tr>\n      <th>75%</th>\n      <td>2021.500000</td>\n    </tr>\n    <tr>\n      <th>max</th>\n      <td>2022.000000</td>\n    </tr>\n  </tbody>\n</table>\n</div>"
     },
     "execution_count": 281,
     "metadata": {},
     "output_type": "execute_result"
    }
   ],
   "source": [
    "data_list_df_partial.describe()"
   ],
   "metadata": {
    "collapsed": false
   }
  },
  {
   "cell_type": "code",
   "execution_count": 282,
   "outputs": [
    {
     "name": "stdout",
     "output_type": "stream",
     "text": [
      "<class 'pandas.core.frame.DataFrame'>\n",
      "RangeIndex: 15 entries, 0 to 14\n",
      "Data columns (total 10 columns):\n",
      " #   Column    Non-Null Count  Dtype         \n",
      "---  ------    --------------  -----         \n",
      " 0   Title     15 non-null     string        \n",
      " 1   Year      15 non-null     int64         \n",
      " 2   Rated     15 non-null     string        \n",
      " 3   Released  15 non-null     datetime64[ns]\n",
      " 4   Runtime   15 non-null     string        \n",
      " 5   Genre     15 non-null     string        \n",
      " 6   Director  15 non-null     string        \n",
      " 7   Writer    15 non-null     string        \n",
      " 8   Actors    15 non-null     string        \n",
      " 9   imdbID    15 non-null     string        \n",
      "dtypes: datetime64[ns](1), int64(1), string(8)\n",
      "memory usage: 1.3 KB\n"
     ]
    }
   ],
   "source": [
    "data_list_df_partial.info()"
   ],
   "metadata": {
    "collapsed": false
   }
  },
  {
   "cell_type": "code",
   "execution_count": 283,
   "outputs": [],
   "source": [
    "data_list_df_partial.to_csv(r'C:\\My\\Workspace\\Python_Projects\\Movies_Data\\output_files\\\\movie_list_detail.csv', index=False)"
   ],
   "metadata": {
    "collapsed": false
   }
  },
  {
   "cell_type": "code",
   "execution_count": null,
   "outputs": [],
   "source": [],
   "metadata": {
    "collapsed": false
   }
  }
 ],
 "metadata": {
  "kernelspec": {
   "display_name": "Python 3",
   "language": "python",
   "name": "python3"
  },
  "language_info": {
   "codemirror_mode": {
    "name": "ipython",
    "version": 2
   },
   "file_extension": ".py",
   "mimetype": "text/x-python",
   "name": "python",
   "nbconvert_exporter": "python",
   "pygments_lexer": "ipython2",
   "version": "2.7.6"
  }
 },
 "nbformat": 4,
 "nbformat_minor": 0
}
